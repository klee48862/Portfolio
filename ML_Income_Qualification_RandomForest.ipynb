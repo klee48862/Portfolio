{
    "cells": [
        {
            "cell_type": "markdown",
            "metadata": {},
            "source": "### Project: Income Qualification - Random Forest\n\nMany social programs have a hard time making sure the right people are given enough aid. It\u2019s tricky when a program focuses on the poorest segment of the population. This segment of population can\u2019t provide the necessary income and expense records to prove that they qualify.\n\nIn Latin America, a popular method called Proxy Means Test (PMT) uses an algorithm to verify income qualification. With PMT, agencies use a model that considers a family\u2019s observable household attributes like the material of their walls and ceiling or the assets found in their homes to classify them and predict their level of need. While this is an improvement, accuracy remains a problem as the region\u2019s population grows and poverty declines.\n\nThe Inter-American Development Bank (IDB)believes that new methods beyond traditional econometrics, based on a dataset of Costa Rican household characteristics, might help improve PMT\u2019s performance. "
        },
        {
            "cell_type": "markdown",
            "metadata": {},
            "source": "#### Following actions should be performed:\n\n* Identify the output variable.\n\n* Understand the type of data.\n\n* Check if there are any biases in your dataset.\n\n* Check whether all members of the house have the same poverty level.\n\n* Check if there is a house without a family head.\n\n* Set poverty level of the members and the head of the house within a family.\n\n* Count how many null values are existing in columns.\n\n* Remove null value rows of the target variable.\n\n* Predict the accuracy using random forest classifier.\n\n* Check the accuracy using random forest with cross validation."
        },
        {
            "cell_type": "code",
            "execution_count": 1,
            "metadata": {},
            "outputs": [],
            "source": "import os\nimport numpy as np\nimport pandas as pd\nimport matplotlib.pyplot as plt\nimport seaborn as sns\nfrom sklearn.model_selection import train_test_split\nfrom sklearn.ensemble import RandomForestClassifier\nfrom sklearn import metrics\n%matplotlib inline"
        },
        {
            "cell_type": "code",
            "execution_count": 2,
            "metadata": {},
            "outputs": [],
            "source": "os.chdir('C:\\\\DATA\\\\Project')"
        },
        {
            "cell_type": "code",
            "execution_count": 3,
            "metadata": {},
            "outputs": [],
            "source": "DF_Train = pd.read_csv('train.csv')\nDF_Test = pd.read_csv('test.csv')"
        },
        {
            "cell_type": "markdown",
            "metadata": {},
            "source": "#### 1. Identify the output variable."
        },
        {
            "cell_type": "code",
            "execution_count": 4,
            "metadata": {},
            "outputs": [
                {
                    "name": "stdout",
                    "output_type": "stream",
                    "text": "['Target']\n"
                }
            ],
            "source": "train_col = list(DF_Train.columns)\ntest_col = list(DF_Test.columns)\ntarget_var = list(set(train_col) - set(test_col))\nprint(target_var)"
        },
        {
            "cell_type": "code",
            "execution_count": 5,
            "metadata": {},
            "outputs": [
                {
                    "data": {
                        "text/html": "<style  type=\"text/css\" >\n</style>  \n<table id=\"T_0504b73e_9ac2_11eb_9e99_548ca05fa73c\" > \n<thead>    <tr> \n        <th class=\"col_heading level0 col0\" >Target</th> \n        <th class=\"col_heading level0 col1\" >Variable description</th> \n    </tr></thead> \n<tbody>    <tr> \n        <td id=\"T_0504b73e_9ac2_11eb_9e99_548ca05fa73crow0_col0\" class=\"data row0 col0\" >1</td> \n        <td id=\"T_0504b73e_9ac2_11eb_9e99_548ca05fa73crow0_col1\" class=\"data row0 col1\" >very low income</td> \n    </tr>    <tr> \n        <td id=\"T_0504b73e_9ac2_11eb_9e99_548ca05fa73crow1_col0\" class=\"data row1 col0\" >2</td> \n        <td id=\"T_0504b73e_9ac2_11eb_9e99_548ca05fa73crow1_col1\" class=\"data row1 col1\" >low income</td> \n    </tr>    <tr> \n        <td id=\"T_0504b73e_9ac2_11eb_9e99_548ca05fa73crow2_col0\" class=\"data row2 col0\" >3</td> \n        <td id=\"T_0504b73e_9ac2_11eb_9e99_548ca05fa73crow2_col1\" class=\"data row2 col1\" >medium income</td> \n    </tr>    <tr> \n        <td id=\"T_0504b73e_9ac2_11eb_9e99_548ca05fa73crow3_col0\" class=\"data row3 col0\" >4</td> \n        <td id=\"T_0504b73e_9ac2_11eb_9e99_548ca05fa73crow3_col1\" class=\"data row3 col1\" >high income</td> \n    </tr></tbody> \n</table> ",
                        "text/plain": "<pandas.io.formats.style.Styler at 0x26ecd69bf98>"
                    },
                    "execution_count": 5,
                    "metadata": {},
                    "output_type": "execute_result"
                }
            ],
            "source": "# Description of target variable\ndictOfTargets = {1: \"very low income\", 2:\"low income\", 3:\"medium income\", 4:\"high income\"}\ndf = pd.DataFrame(list(dictOfTargets.items()),columns = ['Target','Variable description'],index = None)\ndf.style.hide_index()"
        },
        {
            "cell_type": "markdown",
            "metadata": {},
            "source": "#### 2. Understand the type of data."
        },
        {
            "cell_type": "code",
            "execution_count": 7,
            "metadata": {},
            "outputs": [
                {
                    "data": {
                        "text/plain": "(9557, 143)"
                    },
                    "execution_count": 7,
                    "metadata": {},
                    "output_type": "execute_result"
                }
            ],
            "source": "DF_Train.shape"
        },
        {
            "cell_type": "code",
            "execution_count": 8,
            "metadata": {},
            "outputs": [
                {
                    "name": "stdout",
                    "output_type": "stream",
                    "text": "<class 'pandas.core.frame.DataFrame'>\nRangeIndex: 9557 entries, 0 to 9556\nColumns: 143 entries, Id to Target\ndtypes: float64(8), int64(130), object(5)\nmemory usage: 10.4+ MB\n"
                }
            ],
            "source": "DF_Train.info()"
        },
        {
            "cell_type": "code",
            "execution_count": 9,
            "metadata": {},
            "outputs": [],
            "source": "column_types = DF_Train.dtypes\nObjects = column_types[column_types == 'object'].index\nFloats = column_types[column_types == 'float64'].index\nInts = column_types[column_types == 'int64'].index"
        },
        {
            "cell_type": "code",
            "execution_count": 10,
            "metadata": {},
            "outputs": [
                {
                    "name": "stdout",
                    "output_type": "stream",
                    "text": "['Id', 'idhogar', 'dependency', 'edjefe', 'edjefa']\n\n\n['v2a1', 'v18q1', 'rez_esc', 'meaneduc', 'overcrowding', 'SQBovercrowding', 'SQBdependency', 'SQBmeaned']\n\n\n['hacdor', 'rooms', 'hacapo', 'v14a', 'refrig', 'v18q', 'r4h1', 'r4h2', 'r4h3', 'r4m1', 'r4m2', 'r4m3', 'r4t1', 'r4t2', 'r4t3', 'tamhog', 'tamviv', 'escolari', 'hhsize', 'paredblolad', 'paredzocalo', 'paredpreb', 'pareddes', 'paredmad', 'paredzinc', 'paredfibras', 'paredother', 'pisomoscer', 'pisocemento', 'pisoother', 'pisonatur', 'pisonotiene', 'pisomadera', 'techozinc', 'techoentrepiso', 'techocane', 'techootro', 'cielorazo', 'abastaguadentro', 'abastaguafuera', 'abastaguano', 'public', 'planpri', 'noelec', 'coopele', 'sanitario1', 'sanitario2', 'sanitario3', 'sanitario5', 'sanitario6', 'energcocinar1', 'energcocinar2', 'energcocinar3', 'energcocinar4', 'elimbasu1', 'elimbasu2', 'elimbasu3', 'elimbasu4', 'elimbasu5', 'elimbasu6', 'epared1', 'epared2', 'epared3', 'etecho1', 'etecho2', 'etecho3', 'eviv1', 'eviv2', 'eviv3', 'dis', 'male', 'female', 'estadocivil1', 'estadocivil2', 'estadocivil3', 'estadocivil4', 'estadocivil5', 'estadocivil6', 'estadocivil7', 'parentesco1', 'parentesco2', 'parentesco3', 'parentesco4', 'parentesco5', 'parentesco6', 'parentesco7', 'parentesco8', 'parentesco9', 'parentesco10', 'parentesco11', 'parentesco12', 'hogar_nin', 'hogar_adul', 'hogar_mayor', 'hogar_total', 'instlevel1', 'instlevel2', 'instlevel3', 'instlevel4', 'instlevel5', 'instlevel6', 'instlevel7', 'instlevel8', 'instlevel9', 'bedrooms', 'tipovivi1', 'tipovivi2', 'tipovivi3', 'tipovivi4', 'tipovivi5', 'computer', 'television', 'mobilephone', 'qmobilephone', 'lugar1', 'lugar2', 'lugar3', 'lugar4', 'lugar5', 'lugar6', 'area1', 'area2', 'age', 'SQBescolari', 'SQBage', 'SQBhogar_total', 'SQBedjefe', 'SQBhogar_nin', 'agesq', 'Target']\n\n\n"
                }
            ],
            "source": "print(\"{}\\n\\n\".format(list(Objects)))\nprint(\"{}\\n\\n\".format(list(Floats)))\nprint(\"{}\\n\\n\".format(list(Ints)))"
        },
        {
            "cell_type": "markdown",
            "metadata": {},
            "source": "#### 3. Check if there are any biases in your dataset."
        },
        {
            "cell_type": "code",
            "execution_count": 11,
            "metadata": {},
            "outputs": [
                {
                    "data": {
                        "text/plain": "count      2697.00\nmean     165231.61\nstd      150457.13\nmin           0.00\n25%       80000.00\n50%      130000.00\n75%      200000.00\nmax     2353477.00\nName: v2a1, dtype: float64"
                    },
                    "execution_count": 11,
                    "metadata": {},
                    "output_type": "execute_result"
                }
            ],
            "source": "# Turn off scientific notation\npd.options.display.float_format = '{:.2f}'.format\nDF_Train['v2a1'].describe()"
        },
        {
            "cell_type": "code",
            "execution_count": 12,
            "metadata": {
                "scrolled": true
            },
            "outputs": [
                {
                    "data": {
                        "text/plain": "<matplotlib.axes._subplots.AxesSubplot at 0x26ecd9b23c8>"
                    },
                    "execution_count": 12,
                    "metadata": {},
                    "output_type": "execute_result"
                },
                {
                    "data": {
                        "image/png": "[encoded data removed]",
                        "text/plain": "<Figure size 1008x432 with 1 Axes>"
                    },
                    "metadata": {},
                    "output_type": "display_data"
                }
            ],
            "source": "# bias found in column variable - v2a1 (Monthly rent payment)\nplt.figure(figsize=(14, 6))\nsns.boxplot(DF_Train['v2a1'])\n# outliers are occuring past the \u201cmaximum\u201d: Q3 + 1.5*IQR \n# we see for example rent having amount of 1000000 is too high\n# refer to box plot below"
        },
        {
            "cell_type": "code",
            "execution_count": 13,
            "metadata": {},
            "outputs": [
                {
                    "data": {
                        "text/html": "<div>\n<style scoped>\n    .dataframe tbody tr th:only-of-type {\n        vertical-align: middle;\n    }\n\n    .dataframe tbody tr th {\n        vertical-align: top;\n    }\n\n    .dataframe thead th {\n        text-align: right;\n    }\n</style>\n<table border=\"1\" class=\"dataframe\">\n  <thead>\n    <tr style=\"text-align: right;\">\n      <th></th>\n      <th>Id</th>\n      <th>idhogar</th>\n    </tr>\n  </thead>\n  <tbody>\n    <tr>\n      <th>0</th>\n      <td>ID_279628684</td>\n      <td>21eb7fcc1</td>\n    </tr>\n    <tr>\n      <th>1</th>\n      <td>ID_f29eb3ddd</td>\n      <td>0e5d7a658</td>\n    </tr>\n    <tr>\n      <th>2</th>\n      <td>ID_68de51c94</td>\n      <td>2c7317ea8</td>\n    </tr>\n    <tr>\n      <th>3</th>\n      <td>ID_d671db89c</td>\n      <td>2b58d945f</td>\n    </tr>\n    <tr>\n      <th>4</th>\n      <td>ID_d56d6f5f5</td>\n      <td>2b58d945f</td>\n    </tr>\n  </tbody>\n</table>\n</div>",
                        "text/plain": "             Id    idhogar\n0  ID_279628684  21eb7fcc1\n1  ID_f29eb3ddd  0e5d7a658\n2  ID_68de51c94  2c7317ea8\n3  ID_d671db89c  2b58d945f\n4  ID_d56d6f5f5  2b58d945f"
                    },
                    "execution_count": 13,
                    "metadata": {},
                    "output_type": "execute_result"
                }
            ],
            "source": "DF_Train[['Id','idhogar']].head()"
        },
        {
            "cell_type": "markdown",
            "metadata": {},
            "source": "From the data in the columns: Id, idhogar we can see unusual value in variable like character/char values\n\n"
        },
        {
            "cell_type": "markdown",
            "metadata": {},
            "source": " #### 4. Check whether all members of the house have the same poverty level.\n \n For this problem I found some households have different target or poverty level for a subset of members.\n \n proceeded to fix the target level by setting all members of a household to the target level of the head \n of household."
        },
        {
            "cell_type": "code",
            "execution_count": 16,
            "metadata": {},
            "outputs": [
                {
                    "name": "stdout",
                    "output_type": "stream",
                    "text": "There are 2988 households\nhouseholds with only one member: 398\nhouseholds with more than one member: 2590\n"
                }
            ],
            "source": "# lets get a general description of all households\ndfg = DF_Train.groupby('idhogar')\nprint('There are {} households'.format(dfg.ngroups))\nHouseholds = DF_Train.groupby('idhogar')['Target'].count()\nprint('households with only one member: {}'.format(Households[Households == 1].count()))\nprint('households with more than one member: {}'.format(Households[Households > 1].count()))"
        },
        {
            "cell_type": "code",
            "execution_count": 17,
            "metadata": {},
            "outputs": [
                {
                    "data": {
                        "text/html": "<div>\n<style scoped>\n    .dataframe tbody tr th:only-of-type {\n        vertical-align: middle;\n    }\n\n    .dataframe tbody tr th {\n        vertical-align: top;\n    }\n\n    .dataframe thead th {\n        text-align: right;\n    }\n</style>\n<table border=\"1\" class=\"dataframe\">\n  <thead>\n    <tr style=\"text-align: right;\">\n      <th></th>\n      <th>Target</th>\n      <th>Target</th>\n    </tr>\n    <tr>\n      <th>idhogar</th>\n      <th></th>\n      <th></th>\n    </tr>\n  </thead>\n  <tbody>\n    <tr>\n      <th>001ff74ca</th>\n      <td>[4]</td>\n      <td>1</td>\n    </tr>\n    <tr>\n      <th>003123ec2</th>\n      <td>[2]</td>\n      <td>1</td>\n    </tr>\n    <tr>\n      <th>004616164</th>\n      <td>[2]</td>\n      <td>1</td>\n    </tr>\n    <tr>\n      <th>004983866</th>\n      <td>[3]</td>\n      <td>1</td>\n    </tr>\n    <tr>\n      <th>005905417</th>\n      <td>[2]</td>\n      <td>1</td>\n    </tr>\n    <tr>\n      <th>006031de3</th>\n      <td>[4]</td>\n      <td>1</td>\n    </tr>\n    <tr>\n      <th>006555fe2</th>\n      <td>[4]</td>\n      <td>1</td>\n    </tr>\n    <tr>\n      <th>00693f597</th>\n      <td>[4]</td>\n      <td>1</td>\n    </tr>\n    <tr>\n      <th>006b64543</th>\n      <td>[4]</td>\n      <td>1</td>\n    </tr>\n    <tr>\n      <th>00941f1f4</th>\n      <td>[1]</td>\n      <td>1</td>\n    </tr>\n    <tr>\n      <th>009ae1cec</th>\n      <td>[2]</td>\n      <td>1</td>\n    </tr>\n    <tr>\n      <th>00e3e05c5</th>\n      <td>[4]</td>\n      <td>1</td>\n    </tr>\n    <tr>\n      <th>00e443b00</th>\n      <td>[4]</td>\n      <td>1</td>\n    </tr>\n    <tr>\n      <th>00edc0d0f</th>\n      <td>[4]</td>\n      <td>1</td>\n    </tr>\n    <tr>\n      <th>0108c62b8</th>\n      <td>[4]</td>\n      <td>1</td>\n    </tr>\n    <tr>\n      <th>013962b12</th>\n      <td>[4]</td>\n      <td>1</td>\n    </tr>\n    <tr>\n      <th>013e9ee6a</th>\n      <td>[4]</td>\n      <td>1</td>\n    </tr>\n    <tr>\n      <th>0172ab1d9</th>\n      <td>[3, 2]</td>\n      <td>2</td>\n    </tr>\n    <tr>\n      <th>0194d569d</th>\n      <td>[4]</td>\n      <td>1</td>\n    </tr>\n    <tr>\n      <th>01c6fcb6e</th>\n      <td>[3]</td>\n      <td>1</td>\n    </tr>\n  </tbody>\n</table>\n</div>",
                        "text/plain": "           Target  Target\nidhogar                  \n001ff74ca     [4]       1\n003123ec2     [2]       1\n004616164     [2]       1\n004983866     [3]       1\n005905417     [2]       1\n006031de3     [4]       1\n006555fe2     [4]       1\n00693f597     [4]       1\n006b64543     [4]       1\n00941f1f4     [1]       1\n009ae1cec     [2]       1\n00e3e05c5     [4]       1\n00e443b00     [4]       1\n00edc0d0f     [4]       1\n0108c62b8     [4]       1\n013962b12     [4]       1\n013e9ee6a     [4]       1\n0172ab1d9  [3, 2]       2\n0194d569d     [4]       1\n01c6fcb6e     [3]       1"
                    },
                    "execution_count": 17,
                    "metadata": {},
                    "output_type": "execute_result"
                }
            ],
            "source": "data1 = pd.DataFrame(DF_Train.groupby('idhogar')['Target'].unique())\ndata2 = pd.DataFrame(DF_Train.groupby('idhogar')['Target'].nunique())\ndf_data = pd.concat([data1,data2],axis=1)\ndf_data.head(20)"
        },
        {
            "cell_type": "markdown",
            "metadata": {},
            "source": " In household identifier 0172ab1d9: we see 2 different target value for members of a household"
        },
        {
            "cell_type": "code",
            "execution_count": 19,
            "metadata": {},
            "outputs": [
                {
                    "name": "stdout",
                    "output_type": "stream",
                    "text": "Number of Households where all members do NOT have the same target level: 85\nNumber of Households where all members do have the same target level: 2903\nWe see for example the household with idhogar:0172ab1d9 have different target level\n"
                }
            ],
            "source": "diff_target_level = data2.loc[data2['Target'] > 1]\nsame_target_level = data2.loc[data2['Target'] == 1]\nprint(\"Number of Households where all members do NOT have the same target level: {}\".format(len(diff_target_level.index)))\nprint(\"Number of Households where all members do have the same target level: {}\".format(len(same_target_level.index)))\nprint(\"We see for example the household with idhogar:{} have different target level\".format(diff_target_level.index[0]))"
        },
        {
            "cell_type": "markdown",
            "metadata": {},
            "source": " Here is an example of a household where all members do NOT have the same target level"
        },
        {
            "cell_type": "code",
            "execution_count": 21,
            "metadata": {},
            "outputs": [
                {
                    "data": {
                        "text/html": "<div>\n<style scoped>\n    .dataframe tbody tr th:only-of-type {\n        vertical-align: middle;\n    }\n\n    .dataframe tbody tr th {\n        vertical-align: top;\n    }\n\n    .dataframe thead th {\n        text-align: right;\n    }\n</style>\n<table border=\"1\" class=\"dataframe\">\n  <thead>\n    <tr style=\"text-align: right;\">\n      <th></th>\n      <th>Id</th>\n      <th>idhogar</th>\n      <th>parentesco1</th>\n      <th>Target</th>\n    </tr>\n  </thead>\n  <tbody>\n    <tr>\n      <th>7651</th>\n      <td>ID_a5e2b0639</td>\n      <td>0172ab1d9</td>\n      <td>0</td>\n      <td>3</td>\n    </tr>\n    <tr>\n      <th>7652</th>\n      <td>ID_5dfdf4ebe</td>\n      <td>0172ab1d9</td>\n      <td>0</td>\n      <td>2</td>\n    </tr>\n    <tr>\n      <th>7653</th>\n      <td>ID_762e1fd96</td>\n      <td>0172ab1d9</td>\n      <td>0</td>\n      <td>3</td>\n    </tr>\n    <tr>\n      <th>7654</th>\n      <td>ID_c76b87004</td>\n      <td>0172ab1d9</td>\n      <td>1</td>\n      <td>3</td>\n    </tr>\n    <tr>\n      <th>7655</th>\n      <td>ID_1dffe3dcf</td>\n      <td>0172ab1d9</td>\n      <td>0</td>\n      <td>2</td>\n    </tr>\n  </tbody>\n</table>\n</div>",
                        "text/plain": "                Id    idhogar  parentesco1  Target\n7651  ID_a5e2b0639  0172ab1d9            0       3\n7652  ID_5dfdf4ebe  0172ab1d9            0       2\n7653  ID_762e1fd96  0172ab1d9            0       3\n7654  ID_c76b87004  0172ab1d9            1       3\n7655  ID_1dffe3dcf  0172ab1d9            0       2"
                    },
                    "execution_count": 21,
                    "metadata": {},
                    "output_type": "execute_result"
                }
            ],
            "source": "DF_Train[DF_Train['idhogar'] == diff_target_level.index[0]][['Id','idhogar','parentesco1','Target']]"
        },
        {
            "cell_type": "code",
            "execution_count": 22,
            "metadata": {},
            "outputs": [
                {
                    "data": {
                        "text/html": "<div>\n<style scoped>\n    .dataframe tbody tr th:only-of-type {\n        vertical-align: middle;\n    }\n\n    .dataframe tbody tr th {\n        vertical-align: top;\n    }\n\n    .dataframe thead th {\n        text-align: right;\n    }\n</style>\n<table border=\"1\" class=\"dataframe\">\n  <thead>\n    <tr style=\"text-align: right;\">\n      <th></th>\n      <th>Id</th>\n      <th>idhogar</th>\n      <th>parentesco1</th>\n      <th>Target</th>\n    </tr>\n  </thead>\n  <tbody>\n    <tr>\n      <th>7651</th>\n      <td>ID_a5e2b0639</td>\n      <td>0172ab1d9</td>\n      <td>0</td>\n      <td>3</td>\n    </tr>\n    <tr>\n      <th>7652</th>\n      <td>ID_5dfdf4ebe</td>\n      <td>0172ab1d9</td>\n      <td>0</td>\n      <td>3</td>\n    </tr>\n    <tr>\n      <th>7653</th>\n      <td>ID_762e1fd96</td>\n      <td>0172ab1d9</td>\n      <td>0</td>\n      <td>3</td>\n    </tr>\n    <tr>\n      <th>7654</th>\n      <td>ID_c76b87004</td>\n      <td>0172ab1d9</td>\n      <td>1</td>\n      <td>3</td>\n    </tr>\n    <tr>\n      <th>7655</th>\n      <td>ID_1dffe3dcf</td>\n      <td>0172ab1d9</td>\n      <td>0</td>\n      <td>3</td>\n    </tr>\n  </tbody>\n</table>\n</div>",
                        "text/plain": "                Id    idhogar  parentesco1  Target\n7651  ID_a5e2b0639  0172ab1d9            0       3\n7652  ID_5dfdf4ebe  0172ab1d9            0       3\n7653  ID_762e1fd96  0172ab1d9            0       3\n7654  ID_c76b87004  0172ab1d9            1       3\n7655  ID_1dffe3dcf  0172ab1d9            0       3"
                    },
                    "execution_count": 22,
                    "metadata": {},
                    "output_type": "execute_result"
                }
            ],
            "source": "for household in diff_target_level.index:\n    head_target = DF_Train[(DF_Train['idhogar'] == household) & (DF_Train['parentesco1'] == 1)][['Target']]\n    set_to_head = head_target.Target.item()\n    DF_Train.loc[DF_Train['idhogar'] == household, 'Target'] = set_to_head\n    \n#DF_Train.groupby('idhogar')['Target'].unique()\n# Example where target level of the members of the house within a family is set to target level of head of household\nDF_Train[DF_Train['idhogar'] == diff_target_level.index[0]][['Id','idhogar','parentesco1','Target']]"
        },
        {
            "cell_type": "markdown",
            "metadata": {},
            "source": "#### 5. Check if there is a house without a family head."
        },
        {
            "cell_type": "code",
            "execution_count": 24,
            "metadata": {},
            "outputs": [
                {
                    "name": "stdout",
                    "output_type": "stream",
                    "text": "Number of households without a family head: 15\n15\n2973\n"
                }
            ],
            "source": "head = DF_Train.groupby('idhogar')['parentesco1'].sum()\n\nno_head = DF_Train.loc[DF_Train['idhogar'].isin(head[head == 0].index), :]\nno_head_household = len(no_head.groupby('idhogar')['idhogar'].count())\nprint('Number of households without a family head: {}'.format(no_head_household))\n# verify the households with no head of household and with head of headhold\n\nprint(len(head[head == 0]))   # no head of household\nprint(len(head[head == 1]))   # have head of household"
        },
        {
            "cell_type": "code",
            "execution_count": 25,
            "metadata": {},
            "outputs": [],
            "source": "# for verification purposes\n#DF_Train.groupby('idhogar')['Target'].nunique()\n#DF_Train.groupby('idhogar')['Target'].unique()"
        },
        {
            "cell_type": "markdown",
            "metadata": {},
            "source": "#### 6. Set poverty level of the members and the head of the house within a family.\n\nAs discuss in class today the instructor stated the following action to take:\nDocument that insufficient data. As a data scientist we will in such scenarios \nexplicitly reach to database teams and ask for more information sources."
        },
        {
            "cell_type": "markdown",
            "metadata": {},
            "source": "#### 7. Count how many null values are existing in columns."
        },
        {
            "cell_type": "code",
            "execution_count": 28,
            "metadata": {},
            "outputs": [
                {
                    "data": {
                        "text/plain": "v2a1         6860\nv18q1        7342\nrez_esc      7928\nmeaneduc        5\nSQBmeaned       5\ndtype: int64"
                    },
                    "execution_count": 28,
                    "metadata": {},
                    "output_type": "execute_result"
                }
            ],
            "source": "colunm_with_nulls = DF_Train.isnull().sum()\ncolunm_with_nulls[colunm_with_nulls > 0]"
        },
        {
            "cell_type": "code",
            "execution_count": 29,
            "metadata": {},
            "outputs": [],
            "source": "# DETAILED ANALYSIS OF COLUMNS WITH NULL VALUES\n\n# 2. v2a1, Monthly rent payment\n# 9. v18q1, number of tablets household owns\n# 22. rez_esc, Years behind in school\n# 104. meaneduc, average years of education for adults (18+)\n# 141. SQBmeaned, square of the mean years of education of adults (>=18) in household"
        },
        {
            "cell_type": "code",
            "execution_count": 30,
            "metadata": {},
            "outputs": [],
            "source": "# Display Columns with nan(null) values"
        },
        {
            "cell_type": "code",
            "execution_count": 31,
            "metadata": {},
            "outputs": [
                {
                    "data": {
                        "text/html": "<div>\n<style scoped>\n    .dataframe tbody tr th:only-of-type {\n        vertical-align: middle;\n    }\n\n    .dataframe tbody tr th {\n        vertical-align: top;\n    }\n\n    .dataframe thead th {\n        text-align: right;\n    }\n</style>\n<table border=\"1\" class=\"dataframe\">\n  <thead>\n    <tr style=\"text-align: right;\">\n      <th></th>\n      <th>Id</th>\n      <th>v2a1</th>\n      <th>v18q1</th>\n      <th>rez_esc</th>\n      <th>meaneduc</th>\n      <th>SQBmeaned</th>\n    </tr>\n  </thead>\n  <tbody>\n    <tr>\n      <th>0</th>\n      <td>ID_279628684</td>\n      <td>190000.00</td>\n      <td>nan</td>\n      <td>nan</td>\n      <td>10.00</td>\n      <td>100.00</td>\n    </tr>\n    <tr>\n      <th>1</th>\n      <td>ID_f29eb3ddd</td>\n      <td>135000.00</td>\n      <td>1.00</td>\n      <td>nan</td>\n      <td>12.00</td>\n      <td>144.00</td>\n    </tr>\n    <tr>\n      <th>2</th>\n      <td>ID_68de51c94</td>\n      <td>nan</td>\n      <td>nan</td>\n      <td>nan</td>\n      <td>11.00</td>\n      <td>121.00</td>\n    </tr>\n    <tr>\n      <th>3</th>\n      <td>ID_d671db89c</td>\n      <td>180000.00</td>\n      <td>1.00</td>\n      <td>1.00</td>\n      <td>11.00</td>\n      <td>121.00</td>\n    </tr>\n    <tr>\n      <th>4</th>\n      <td>ID_d56d6f5f5</td>\n      <td>180000.00</td>\n      <td>1.00</td>\n      <td>nan</td>\n      <td>11.00</td>\n      <td>121.00</td>\n    </tr>\n  </tbody>\n</table>\n</div>",
                        "text/plain": "             Id      v2a1  v18q1  rez_esc  meaneduc  SQBmeaned\n0  ID_279628684 190000.00    nan      nan     10.00     100.00\n1  ID_f29eb3ddd 135000.00   1.00      nan     12.00     144.00\n2  ID_68de51c94       nan    nan      nan     11.00     121.00\n3  ID_d671db89c 180000.00   1.00     1.00     11.00     121.00\n4  ID_d56d6f5f5 180000.00   1.00      nan     11.00     121.00"
                    },
                    "execution_count": 31,
                    "metadata": {},
                    "output_type": "execute_result"
                }
            ],
            "source": "DF_Train[['Id','v2a1','v18q1','rez_esc','meaneduc','SQBmeaned']].head(5)"
        },
        {
            "cell_type": "code",
            "execution_count": 32,
            "metadata": {},
            "outputs": [
                {
                    "data": {
                        "text/html": "<div>\n<style scoped>\n    .dataframe tbody tr th:only-of-type {\n        vertical-align: middle;\n    }\n\n    .dataframe tbody tr th {\n        vertical-align: top;\n    }\n\n    .dataframe thead th {\n        text-align: right;\n    }\n</style>\n<table border=\"1\" class=\"dataframe\">\n  <thead>\n    <tr style=\"text-align: right;\">\n      <th></th>\n      <th>Id</th>\n      <th>meaneduc</th>\n      <th>SQBmeaned</th>\n    </tr>\n  </thead>\n  <tbody>\n    <tr>\n      <th>1291</th>\n      <td>ID_bd8e11b0f</td>\n      <td>nan</td>\n      <td>nan</td>\n    </tr>\n    <tr>\n      <th>1840</th>\n      <td>ID_46ff87316</td>\n      <td>nan</td>\n      <td>nan</td>\n    </tr>\n    <tr>\n      <th>1841</th>\n      <td>ID_69f50bf3e</td>\n      <td>nan</td>\n      <td>nan</td>\n    </tr>\n    <tr>\n      <th>2049</th>\n      <td>ID_db3168f9f</td>\n      <td>nan</td>\n      <td>nan</td>\n    </tr>\n    <tr>\n      <th>2050</th>\n      <td>ID_2a7615902</td>\n      <td>nan</td>\n      <td>nan</td>\n    </tr>\n  </tbody>\n</table>\n</div>",
                        "text/plain": "                Id  meaneduc  SQBmeaned\n1291  ID_bd8e11b0f       nan        nan\n1840  ID_46ff87316       nan        nan\n1841  ID_69f50bf3e       nan        nan\n2049  ID_db3168f9f       nan        nan\n2050  ID_2a7615902       nan        nan"
                    },
                    "execution_count": 32,
                    "metadata": {},
                    "output_type": "execute_result"
                }
            ],
            "source": "DF_Train.loc[DF_Train['meaneduc'].isnull()][['Id','meaneduc','SQBmeaned']]"
        },
        {
            "cell_type": "code",
            "execution_count": 33,
            "metadata": {},
            "outputs": [
                {
                    "data": {
                        "text/plain": "(6860, 143)"
                    },
                    "execution_count": 33,
                    "metadata": {},
                    "output_type": "execute_result"
                }
            ],
            "source": "DF_Train[DF_Train['v2a1'].isnull()].shape"
        },
        {
            "cell_type": "code",
            "execution_count": 34,
            "metadata": {},
            "outputs": [
                {
                    "data": {
                        "text/html": "<div>\n<style scoped>\n    .dataframe tbody tr th:only-of-type {\n        vertical-align: middle;\n    }\n\n    .dataframe tbody tr th {\n        vertical-align: top;\n    }\n\n    .dataframe thead th {\n        text-align: right;\n    }\n</style>\n<table border=\"1\" class=\"dataframe\">\n  <thead>\n    <tr style=\"text-align: right;\">\n      <th></th>\n      <th>Id</th>\n      <th>v2a1</th>\n      <th>tipovivi1</th>\n      <th>tipovivi2</th>\n      <th>tipovivi3</th>\n      <th>tipovivi4</th>\n      <th>tipovivi5</th>\n    </tr>\n  </thead>\n  <tbody>\n    <tr>\n      <th>2</th>\n      <td>ID_68de51c94</td>\n      <td>nan</td>\n      <td>1</td>\n      <td>0</td>\n      <td>0</td>\n      <td>0</td>\n      <td>0</td>\n    </tr>\n    <tr>\n      <th>13</th>\n      <td>ID_064b57869</td>\n      <td>nan</td>\n      <td>1</td>\n      <td>0</td>\n      <td>0</td>\n      <td>0</td>\n      <td>0</td>\n    </tr>\n    <tr>\n      <th>14</th>\n      <td>ID_5c837d8a4</td>\n      <td>nan</td>\n      <td>1</td>\n      <td>0</td>\n      <td>0</td>\n      <td>0</td>\n      <td>0</td>\n    </tr>\n    <tr>\n      <th>26</th>\n      <td>ID_e5cdba865</td>\n      <td>nan</td>\n      <td>1</td>\n      <td>0</td>\n      <td>0</td>\n      <td>0</td>\n      <td>0</td>\n    </tr>\n    <tr>\n      <th>32</th>\n      <td>ID_e24d9c3c9</td>\n      <td>nan</td>\n      <td>1</td>\n      <td>0</td>\n      <td>0</td>\n      <td>0</td>\n      <td>0</td>\n    </tr>\n  </tbody>\n</table>\n</div>",
                        "text/plain": "              Id  v2a1  tipovivi1  tipovivi2  tipovivi3  tipovivi4  tipovivi5\n2   ID_68de51c94   nan          1          0          0          0          0\n13  ID_064b57869   nan          1          0          0          0          0\n14  ID_5c837d8a4   nan          1          0          0          0          0\n26  ID_e5cdba865   nan          1          0          0          0          0\n32  ID_e24d9c3c9   nan          1          0          0          0          0"
                    },
                    "execution_count": 34,
                    "metadata": {},
                    "output_type": "execute_result"
                }
            ],
            "source": "# 2. v2a1, Monthly rent payment\n# Find all rows where the monthly rent column:v2a1 is null\n# display the first few rows or examples with null values\nidx_null = DF_Train[DF_Train['v2a1'].isnull()].index\nrent_related_col = ['Id','v2a1','tipovivi1','tipovivi2','tipovivi3','tipovivi4','tipovivi5']\nrent_status = DF_Train.loc[idx_null,rent_related_col]\nrent_status.head()"
        },
        {
            "cell_type": "code",
            "execution_count": 35,
            "metadata": {},
            "outputs": [],
            "source": "# Set null values for v2a1 or monthly rent to 0\nDF_Train['v2a1'].fillna(value=0, inplace=True)"
        },
        {
            "cell_type": "code",
            "execution_count": 36,
            "metadata": {},
            "outputs": [],
            "source": "#  9. v18q1, number of tablets household owns"
        },
        {
            "cell_type": "code",
            "execution_count": 37,
            "metadata": {},
            "outputs": [
                {
                    "name": "stdout",
                    "output_type": "stream",
                    "text": "v18q\n0       0\n1    2215\nName: v18q1, dtype: int64\n"
                },
                {
                    "data": {
                        "text/html": "<div>\n<style scoped>\n    .dataframe tbody tr th:only-of-type {\n        vertical-align: middle;\n    }\n\n    .dataframe tbody tr th {\n        vertical-align: top;\n    }\n\n    .dataframe thead th {\n        text-align: right;\n    }\n</style>\n<table border=\"1\" class=\"dataframe\">\n  <thead>\n    <tr style=\"text-align: right;\">\n      <th></th>\n      <th>v18q</th>\n      <th>v18q1</th>\n    </tr>\n  </thead>\n  <tbody>\n    <tr>\n      <th>0</th>\n      <td>0</td>\n      <td>nan</td>\n    </tr>\n    <tr>\n      <th>1</th>\n      <td>1</td>\n      <td>1.00</td>\n    </tr>\n    <tr>\n      <th>2</th>\n      <td>0</td>\n      <td>nan</td>\n    </tr>\n    <tr>\n      <th>3</th>\n      <td>1</td>\n      <td>1.00</td>\n    </tr>\n    <tr>\n      <th>4</th>\n      <td>1</td>\n      <td>1.00</td>\n    </tr>\n    <tr>\n      <th>5</th>\n      <td>1</td>\n      <td>1.00</td>\n    </tr>\n    <tr>\n      <th>6</th>\n      <td>1</td>\n      <td>1.00</td>\n    </tr>\n    <tr>\n      <th>7</th>\n      <td>0</td>\n      <td>nan</td>\n    </tr>\n    <tr>\n      <th>8</th>\n      <td>0</td>\n      <td>nan</td>\n    </tr>\n    <tr>\n      <th>9</th>\n      <td>0</td>\n      <td>nan</td>\n    </tr>\n  </tbody>\n</table>\n</div>",
                        "text/plain": "   v18q  v18q1\n0     0    nan\n1     1   1.00\n2     0    nan\n3     1   1.00\n4     1   1.00\n5     1   1.00\n6     1   1.00\n7     0    nan\n8     0    nan\n9     0    nan"
                    },
                    "execution_count": 37,
                    "metadata": {},
                    "output_type": "execute_result"
                }
            ],
            "source": "tablet_status = DF_Train.groupby('v18q')[['v18q','v18q1']]\nprint(DF_Train.groupby('v18q')['v18q1'].count())\ntablet_status.head()"
        },
        {
            "cell_type": "code",
            "execution_count": 38,
            "metadata": {},
            "outputs": [
                {
                    "data": {
                        "text/plain": "v18q\n0    7342\nName: v2a1, dtype: int64"
                    },
                    "execution_count": 38,
                    "metadata": {},
                    "output_type": "execute_result"
                }
            ],
            "source": "DF_v18q1_null = DF_Train[DF_Train['v18q1'].isnull()]\nDF_v18q1_null.groupby('v18q').count()['v2a1']"
        },
        {
            "cell_type": "code",
            "execution_count": 39,
            "metadata": {},
            "outputs": [],
            "source": "# After grouping the data rows or households into 2 groups: households that does not own a tablet (v18q=0) \n# and households that does own a tablet (v18q=1), it is clear that the null values are coming from household that\n# does not own a tablet\nDF_Train['v18q1'].fillna(value=0,inplace=True)"
        },
        {
            "cell_type": "code",
            "execution_count": 40,
            "metadata": {},
            "outputs": [],
            "source": "# 22. rez_esc, Years behind in school\n# This column will need to be drop\nDF_Train.drop(columns = 'rez_esc',inplace=True)"
        },
        {
            "cell_type": "code",
            "execution_count": 41,
            "metadata": {},
            "outputs": [],
            "source": "# 104. meaneduc, average years of education for adults (18+)\n# 141. SQBmeaned, square of the mean years of education of adults (>=18) in household"
        },
        {
            "cell_type": "code",
            "execution_count": 42,
            "metadata": {},
            "outputs": [],
            "source": "# use median value for null values\nMedian1 = int(DF_Train['meaneduc'].median())\nMedian2 = int(DF_Train['SQBmeaned'].median())\nDF_Train[['meaneduc']] = DF_Train[['meaneduc']].fillna(Median1)\nDF_Train[['SQBmeaned']] = DF_Train[['SQBmeaned']].fillna(Median2)"
        },
        {
            "cell_type": "code",
            "execution_count": 43,
            "metadata": {},
            "outputs": [
                {
                    "data": {
                        "text/html": "<div>\n<style scoped>\n    .dataframe tbody tr th:only-of-type {\n        vertical-align: middle;\n    }\n\n    .dataframe tbody tr th {\n        vertical-align: top;\n    }\n\n    .dataframe thead th {\n        text-align: right;\n    }\n</style>\n<table border=\"1\" class=\"dataframe\">\n  <thead>\n    <tr style=\"text-align: right;\">\n      <th></th>\n      <th>dependency</th>\n      <th>edjefe</th>\n      <th>edjefa</th>\n    </tr>\n  </thead>\n  <tbody>\n    <tr>\n      <th>9551</th>\n      <td>yes</td>\n      <td>no</td>\n      <td>no</td>\n    </tr>\n    <tr>\n      <th>9552</th>\n      <td>.25</td>\n      <td>9</td>\n      <td>no</td>\n    </tr>\n    <tr>\n      <th>9553</th>\n      <td>.25</td>\n      <td>9</td>\n      <td>no</td>\n    </tr>\n    <tr>\n      <th>9554</th>\n      <td>.25</td>\n      <td>9</td>\n      <td>no</td>\n    </tr>\n    <tr>\n      <th>9555</th>\n      <td>.25</td>\n      <td>9</td>\n      <td>no</td>\n    </tr>\n    <tr>\n      <th>9556</th>\n      <td>.25</td>\n      <td>9</td>\n      <td>no</td>\n    </tr>\n  </tbody>\n</table>\n</div>",
                        "text/plain": "     dependency edjefe edjefa\n9551        yes     no     no\n9552        .25      9     no\n9553        .25      9     no\n9554        .25      9     no\n9555        .25      9     no\n9556        .25      9     no"
                    },
                    "execution_count": 43,
                    "metadata": {},
                    "output_type": "execute_result"
                }
            ],
            "source": "DF_Train[['dependency','edjefe','edjefa']].tail(6)"
        },
        {
            "cell_type": "markdown",
            "metadata": {},
            "source": "#### 8. Remove null value rows of the target variable."
        },
        {
            "cell_type": "code",
            "execution_count": 44,
            "metadata": {},
            "outputs": [
                {
                    "data": {
                        "text/plain": "False"
                    },
                    "execution_count": 44,
                    "metadata": {},
                    "output_type": "execute_result"
                }
            ],
            "source": "DF_Train['Target'].isnull().any()"
        },
        {
            "cell_type": "code",
            "execution_count": 45,
            "metadata": {},
            "outputs": [],
            "source": "DF_Train[['dependency','edjefe','edjefa']] = DF_Train[['dependency','edjefe','edjefa']].replace({'yes': 1,'no': 0})"
        },
        {
            "cell_type": "code",
            "execution_count": 68,
            "metadata": {},
            "outputs": [
                {
                    "data": {
                        "text/html": "<div>\n<style scoped>\n    .dataframe tbody tr th:only-of-type {\n        vertical-align: middle;\n    }\n\n    .dataframe tbody tr th {\n        vertical-align: top;\n    }\n\n    .dataframe thead th {\n        text-align: right;\n    }\n</style>\n<table border=\"1\" class=\"dataframe\">\n  <thead>\n    <tr style=\"text-align: right;\">\n      <th></th>\n      <th>dependency</th>\n      <th>edjefe</th>\n      <th>edjefa</th>\n    </tr>\n  </thead>\n  <tbody>\n    <tr>\n      <th>9551</th>\n      <td>1</td>\n      <td>0</td>\n      <td>0</td>\n    </tr>\n    <tr>\n      <th>9552</th>\n      <td>.25</td>\n      <td>9</td>\n      <td>0</td>\n    </tr>\n    <tr>\n      <th>9553</th>\n      <td>.25</td>\n      <td>9</td>\n      <td>0</td>\n    </tr>\n    <tr>\n      <th>9554</th>\n      <td>.25</td>\n      <td>9</td>\n      <td>0</td>\n    </tr>\n    <tr>\n      <th>9555</th>\n      <td>.25</td>\n      <td>9</td>\n      <td>0</td>\n    </tr>\n    <tr>\n      <th>9556</th>\n      <td>.25</td>\n      <td>9</td>\n      <td>0</td>\n    </tr>\n  </tbody>\n</table>\n</div>",
                        "text/plain": "     dependency edjefe edjefa\n9551          1      0      0\n9552        .25      9      0\n9553        .25      9      0\n9554        .25      9      0\n9555        .25      9      0\n9556        .25      9      0"
                    },
                    "execution_count": 68,
                    "metadata": {},
                    "output_type": "execute_result"
                }
            ],
            "source": "DF_Train[['dependency','edjefe','edjefa']].tail(6)"
        },
        {
            "cell_type": "code",
            "execution_count": 47,
            "metadata": {},
            "outputs": [],
            "source": "columns_drop = ['Id','idhogar','SQBescolari', 'SQBage', 'SQBhogar_total', 'SQBedjefe','SQBhogar_nin', 'SQBovercrowding', 'SQBdependency', 'SQBmeaned', 'agesq']\nDF_Train.drop(columns = columns_drop,inplace=True)\nDF_Test.drop(columns = columns_drop,inplace=True)"
        },
        {
            "cell_type": "code",
            "execution_count": 48,
            "metadata": {},
            "outputs": [
                {
                    "name": "stdout",
                    "output_type": "stream",
                    "text": "(9557, 131)\n"
                }
            ],
            "source": "# validate the number of columns before we feed it into our Random Forest algorithm\nprint(DF_Train.shape)"
        },
        {
            "cell_type": "markdown",
            "metadata": {},
            "source": "#### 9 Predict the accuracy using random forest classifier."
        },
        {
            "cell_type": "code",
            "execution_count": 49,
            "metadata": {},
            "outputs": [],
            "source": "X = DF_Train.drop('Target', axis=1)\nY = DF_Train.Target\n\nX_train, X_test, Y_train, Y_test =  train_test_split(X,Y,test_size=.30,random_state=5)"
        },
        {
            "cell_type": "code",
            "execution_count": 50,
            "metadata": {},
            "outputs": [
                {
                    "data": {
                        "text/html": "<div>\n<style scoped>\n    .dataframe tbody tr th:only-of-type {\n        vertical-align: middle;\n    }\n\n    .dataframe tbody tr th {\n        vertical-align: top;\n    }\n\n    .dataframe thead th {\n        text-align: right;\n    }\n</style>\n<table border=\"1\" class=\"dataframe\">\n  <thead>\n    <tr style=\"text-align: right;\">\n      <th></th>\n      <th>v2a1</th>\n      <th>hacdor</th>\n      <th>rooms</th>\n      <th>hacapo</th>\n      <th>v14a</th>\n      <th>refrig</th>\n      <th>v18q</th>\n      <th>v18q1</th>\n      <th>r4h1</th>\n      <th>r4h2</th>\n      <th>...</th>\n      <th>lugar2</th>\n      <th>lugar3</th>\n      <th>lugar4</th>\n      <th>lugar5</th>\n      <th>lugar6</th>\n      <th>area1</th>\n      <th>area2</th>\n      <th>age</th>\n      <th>Target</th>\n      <th>Predict</th>\n    </tr>\n  </thead>\n  <tbody>\n    <tr>\n      <th>0</th>\n      <td>0.00</td>\n      <td>0</td>\n      <td>5</td>\n      <td>0</td>\n      <td>1</td>\n      <td>1</td>\n      <td>0</td>\n      <td>0.00</td>\n      <td>0</td>\n      <td>2</td>\n      <td>...</td>\n      <td>0</td>\n      <td>0</td>\n      <td>0</td>\n      <td>0</td>\n      <td>0</td>\n      <td>1</td>\n      <td>0</td>\n      <td>50</td>\n      <td>4</td>\n      <td>4</td>\n    </tr>\n    <tr>\n      <th>1</th>\n      <td>0.00</td>\n      <td>0</td>\n      <td>6</td>\n      <td>0</td>\n      <td>1</td>\n      <td>1</td>\n      <td>1</td>\n      <td>1.00</td>\n      <td>0</td>\n      <td>0</td>\n      <td>...</td>\n      <td>0</td>\n      <td>0</td>\n      <td>0</td>\n      <td>0</td>\n      <td>0</td>\n      <td>1</td>\n      <td>0</td>\n      <td>19</td>\n      <td>4</td>\n      <td>4</td>\n    </tr>\n    <tr>\n      <th>2</th>\n      <td>0.00</td>\n      <td>0</td>\n      <td>6</td>\n      <td>0</td>\n      <td>1</td>\n      <td>1</td>\n      <td>0</td>\n      <td>0.00</td>\n      <td>0</td>\n      <td>3</td>\n      <td>...</td>\n      <td>0</td>\n      <td>0</td>\n      <td>0</td>\n      <td>0</td>\n      <td>0</td>\n      <td>1</td>\n      <td>0</td>\n      <td>28</td>\n      <td>2</td>\n      <td>4</td>\n    </tr>\n    <tr>\n      <th>3</th>\n      <td>0.00</td>\n      <td>0</td>\n      <td>5</td>\n      <td>0</td>\n      <td>1</td>\n      <td>1</td>\n      <td>0</td>\n      <td>0.00</td>\n      <td>0</td>\n      <td>1</td>\n      <td>...</td>\n      <td>0</td>\n      <td>0</td>\n      <td>1</td>\n      <td>0</td>\n      <td>0</td>\n      <td>1</td>\n      <td>0</td>\n      <td>56</td>\n      <td>2</td>\n      <td>2</td>\n    </tr>\n    <tr>\n      <th>4</th>\n      <td>0.00</td>\n      <td>0</td>\n      <td>5</td>\n      <td>0</td>\n      <td>1</td>\n      <td>1</td>\n      <td>0</td>\n      <td>0.00</td>\n      <td>0</td>\n      <td>2</td>\n      <td>...</td>\n      <td>0</td>\n      <td>0</td>\n      <td>0</td>\n      <td>0</td>\n      <td>0</td>\n      <td>1</td>\n      <td>0</td>\n      <td>19</td>\n      <td>4</td>\n      <td>4</td>\n    </tr>\n  </tbody>\n</table>\n<p>5 rows \u00d7 132 columns</p>\n</div>",
                        "text/plain": "   v2a1  hacdor  rooms  hacapo  v14a  refrig  v18q  v18q1  r4h1  r4h2  \\\n0  0.00       0      5       0     1       1     0   0.00     0     2   \n1  0.00       0      6       0     1       1     1   1.00     0     0   \n2  0.00       0      6       0     1       1     0   0.00     0     3   \n3  0.00       0      5       0     1       1     0   0.00     0     1   \n4  0.00       0      5       0     1       1     0   0.00     0     2   \n\n    ...     lugar2  lugar3  lugar4  lugar5  lugar6  area1  area2  age  Target  \\\n0   ...          0       0       0       0       0      1      0   50       4   \n1   ...          0       0       0       0       0      1      0   19       4   \n2   ...          0       0       0       0       0      1      0   28       2   \n3   ...          0       0       1       0       0      1      0   56       2   \n4   ...          0       0       0       0       0      1      0   19       4   \n\n   Predict  \n0        4  \n1        4  \n2        4  \n3        2  \n4        4  \n\n[5 rows x 132 columns]"
                    },
                    "execution_count": 50,
                    "metadata": {},
                    "output_type": "execute_result"
                }
            ],
            "source": "model = RandomForestClassifier(n_estimators=100)\nRF_level = model.fit(X_train,Y_train)\nPredicted  = RF_level.predict(X_test)\nPredicted = pd.DataFrame(Predicted,columns=[\"Predict\"])\nFinalDB = pd.concat([(X_test.reset_index(drop=True)),(Y_test.reset_index(drop=True)),Predicted],axis=1)\nFinalDB.head()"
        },
        {
            "cell_type": "code",
            "execution_count": 51,
            "metadata": {},
            "outputs": [
                {
                    "data": {
                        "text/plain": "0.9236401673640168"
                    },
                    "execution_count": 51,
                    "metadata": {},
                    "output_type": "execute_result"
                }
            ],
            "source": "metrics.accuracy_score(FinalDB.Target,FinalDB.Predict)"
        },
        {
            "cell_type": "code",
            "execution_count": 52,
            "metadata": {},
            "outputs": [
                {
                    "data": {
                        "text/plain": "(2868, 1)"
                    },
                    "execution_count": 52,
                    "metadata": {},
                    "output_type": "execute_result"
                }
            ],
            "source": "Predicted.shape"
        },
        {
            "cell_type": "code",
            "execution_count": 54,
            "metadata": {},
            "outputs": [
                {
                    "data": {
                        "text/html": "<div>\n<style scoped>\n    .dataframe tbody tr th:only-of-type {\n        vertical-align: middle;\n    }\n\n    .dataframe tbody tr th {\n        vertical-align: top;\n    }\n\n    .dataframe thead th {\n        text-align: right;\n    }\n</style>\n<table border=\"1\" class=\"dataframe\">\n  <thead>\n    <tr style=\"text-align: right;\">\n      <th>Predict</th>\n      <th>1</th>\n      <th>2</th>\n      <th>3</th>\n      <th>4</th>\n    </tr>\n    <tr>\n      <th>Target</th>\n      <th></th>\n      <th></th>\n      <th></th>\n      <th></th>\n    </tr>\n  </thead>\n  <tbody>\n    <tr>\n      <th>1</th>\n      <td>194</td>\n      <td>0</td>\n      <td>1</td>\n      <td>39</td>\n    </tr>\n    <tr>\n      <th>2</th>\n      <td>0</td>\n      <td>371</td>\n      <td>4</td>\n      <td>64</td>\n    </tr>\n    <tr>\n      <th>3</th>\n      <td>0</td>\n      <td>11</td>\n      <td>300</td>\n      <td>76</td>\n    </tr>\n    <tr>\n      <th>4</th>\n      <td>0</td>\n      <td>5</td>\n      <td>2</td>\n      <td>1801</td>\n    </tr>\n  </tbody>\n</table>\n</div>",
                        "text/plain": "Predict    1    2    3     4\nTarget                      \n1        194    0    1    39\n2          0  371    4    64\n3          0   11  300    76\n4          0    5    2  1801"
                    },
                    "execution_count": 54,
                    "metadata": {},
                    "output_type": "execute_result"
                }
            ],
            "source": "pd.crosstab(FinalDB.Target,FinalDB.Predict)"
        },
        {
            "cell_type": "code",
            "execution_count": 55,
            "metadata": {},
            "outputs": [
                {
                    "data": {
                        "text/plain": "array([0.66370293, 0.64382845, 0.65096808, 0.46677132, 0.55206698])"
                    },
                    "execution_count": 55,
                    "metadata": {},
                    "output_type": "execute_result"
                }
            ],
            "source": "from sklearn.model_selection import cross_val_score\nCV = cross_val_score(RandomForestClassifier(n_estimators=100), X, Y)\nCV"
        },
        {
            "cell_type": "code",
            "execution_count": 56,
            "metadata": {},
            "outputs": [],
            "source": "param_grid_target = {'n_estimators':[100,150,200,250],'max_depth':[5,10,15,20],'min_samples_leaf':[1,3,5]}"
        },
        {
            "cell_type": "code",
            "execution_count": 57,
            "metadata": {},
            "outputs": [
                {
                    "name": "stdout",
                    "output_type": "stream",
                    "text": "Wall time: 14min 19s\n"
                },
                {
                    "data": {
                        "text/plain": "GridSearchCV(cv=10, estimator=RandomForestClassifier(),\n             param_grid={'max_depth': [5, 10, 15, 20],\n                         'min_samples_leaf': [1, 3, 5],\n                         'n_estimators': [100, 150, 200, 250]})"
                    },
                    "execution_count": 57,
                    "metadata": {},
                    "output_type": "execute_result"
                }
            ],
            "source": "from sklearn.model_selection import GridSearchCV\n\nmodel = RandomForestClassifier()\nrf_grid_output = GridSearchCV(estimator=model,param_grid=param_grid_target,cv=10)\n\n%time rf_grid_output.fit(X_train,Y_train)"
        },
        {
            "cell_type": "code",
            "execution_count": 58,
            "metadata": {},
            "outputs": [
                {
                    "name": "stdout",
                    "output_type": "stream",
                    "text": "0.9162813386679556 {'max_depth': 20, 'min_samples_leaf': 1, 'n_estimators': 200}\n"
                }
            ],
            "source": "print(rf_grid_output.best_score_,rf_grid_output.best_params_)"
        },
        {
            "cell_type": "code",
            "execution_count": 79,
            "metadata": {},
            "outputs": [
                {
                    "data": {
                        "text/plain": "0.9184100418410042"
                    },
                    "execution_count": 79,
                    "metadata": {},
                    "output_type": "execute_result"
                }
            ],
            "source": "model = RandomForestClassifier(n_estimators=175,max_depth=20,min_samples_leaf=1)\n\n#model = RandomForestClassifier(n_estimators=100)\nRF_level = model.fit(X_train,Y_train)\nPredicted  = RF_level.predict(X_test)\nPredicted = pd.DataFrame(Predicted,columns=[\"Predict\"])\nFinalDB = pd.concat([(X_test.reset_index(drop=True)),(Y_test.reset_index(drop=True)),Predicted],axis=1)\nmetrics.accuracy_score(FinalDB.Target,FinalDB.Predict)"
        },
        {
            "cell_type": "markdown",
            "metadata": {},
            "source": "#### 10. Check the accuracy using random forest with cross validation."
        },
        {
            "cell_type": "code",
            "execution_count": 65,
            "metadata": {},
            "outputs": [
                {
                    "data": {
                        "text/plain": "array([0.94769874, 0.95711297, 0.94560669, 0.96338912, 0.95711297,\n       0.95502092, 0.95711297, 0.96230366, 0.94554974, 0.95078534])"
                    },
                    "execution_count": 65,
                    "metadata": {},
                    "output_type": "execute_result"
                }
            ],
            "source": "from sklearn.model_selection import KFold\n\nCV=KFold(n_splits=10,random_state=5,shuffle=True)\n\nrfClassifier=RandomForestClassifier(random_state=10,n_jobs=-1)\nscore = cross_val_score(rfClassifier,X,Y,cv=CV,scoring='accuracy')\nscore"
        },
        {
            "cell_type": "code",
            "execution_count": 66,
            "metadata": {
                "scrolled": true
            },
            "outputs": [
                {
                    "data": {
                        "text/plain": "0.9541693136760937"
                    },
                    "execution_count": 66,
                    "metadata": {},
                    "output_type": "execute_result"
                }
            ],
            "source": "np.mean(score)"
        },
        {
            "cell_type": "markdown",
            "metadata": {},
            "source": " As per above results accuracy is improving substantially, so we are fine with the final results and we have validated with cross validation that\n the selected model is in sync"
        },
        {
            "cell_type": "code",
            "execution_count": null,
            "metadata": {},
            "outputs": [],
            "source": ""
        }
    ],
    "metadata": {
        "kernelspec": {
            "display_name": "Python 3",
            "language": "python",
            "name": "python3"
        },
        "language_info": {
            "codemirror_mode": {
                "name": "ipython",
                "version": 3
            },
            "file_extension": ".py",
            "mimetype": "text/x-python",
            "name": "python",
            "nbconvert_exporter": "python",
            "pygments_lexer": "ipython3",
            "version": "3.6.5"
        }
    },
    "nbformat": 4,
    "nbformat_minor": 2
}