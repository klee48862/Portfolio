{
 "cells": [
  {
   "cell_type": "markdown",
   "metadata": {
    "_uuid": "a5188de248cf334b502219f51021fcd69acb394b",
    "colab_type": "text",
    "id": "7gDaXf3vra9M"
   },
   "source": [
    "## Natural Language Processing Techniques using spaCy \n",
    "\n",
    "This notebook explains NLP techniques using python's library - spaCy\n",
    "\n",
    "### Contents \n",
    "\n",
    "1. About spaCy  \n",
    "2. Installation  \n",
    "3. Dataset Preparation for spaCy  \n",
    "4. Tokenization - Word and Sentences  \n",
    "5. Text Cleaning - Stopwords, Punctuations, Lemmatization  \n",
    "6. Part of Speech Tagging  \n",
    "7. Entity Extraction  \n",
    "8. Noun Phrase Chunking  \n",
    "9. Dependency Parsing  \n",
    "10. Word Vector Notations  \n",
    "\n",
    "### 1. About spaCy \n",
    "\n",
    "spaCy is a free, open-source library for advanced Natural Language Processing (NLP) in Python. It's designed specifically for production use and helps you build applications that process and \"understand\" large volumes of text. It can be used to build information extraction or natural language understanding systems, or to pre-process text for deep learning. Following are the key features of spaCy : \n",
    "\n",
    "- Non-destructive tokenization\n",
    "- Named entity recognition\n",
    "- Support for 34+ languages\n",
    "- 13 statistical models for 8 languages\n",
    "- Pre-trained word vectors\n",
    "- Easy deep learning integration\n",
    "- Part-of-speech tagging\n",
    "- Labelled dependency parsing\n",
    "- Syntax-driven sentence segmentation\n",
    "- Built in visualizers for syntax and NER\n",
    "- Convenient string-to-hash mapping\n",
    "- Export to numpy data arrays\n",
    "- Efficient binary serialization\n",
    "- Easy model packaging and deployment\n",
    "- State-of-the-art speed\n",
    "- Robust, rigorously evaluated accuracy  \n",
    "\n",
    "With so many features inbuilt, spaCy is considered as one of the powerful NLP library. \n",
    "\n",
    "### 2. Installation \n",
    "\n",
    "To install spaCy, two steps are required, \n",
    "\n",
    "2.1 Install the spaCy source using pip command\n",
    "\n",
    "    pip install spacy\n",
    "\n",
    "2.2 Download the spacy pre-trained and annotated models  \n",
    "\n",
    "    python -m spacy download en_core_web_sm  \n",
    "    \n",
    "### 3. Dataset Preparation  \n",
    "\n",
    "We first load the required libraries and prepare the data for spaCy usage.  We will load the spacy models (which were downloaded duing the installation step) and create an object \"nlp\". "
   ]
  },
  {
   "cell_type": "code",
   "execution_count": 0,
   "metadata": {
    "_cell_guid": "b1076dfc-b9ad-4769-8c92-a6c4dae69d19",
    "_uuid": "8f2839f25d086af736a60e9eeb907d3b93b6e0e5",
    "colab": {},
    "colab_type": "code",
    "id": "MBwfgTHyra9Q"
   },
   "outputs": [],
   "source": [
    "import spacy"
   ]
  },
  {
   "cell_type": "code",
   "execution_count": 2,
   "metadata": {
    "colab": {
     "base_uri": "https://localhost:8080/",
     "height": 90
    },
    "colab_type": "code",
    "executionInfo": {
     "elapsed": 10097,
     "status": "ok",
     "timestamp": 1583478787016,
     "user": {
      "displayName": "Prashant Sahu",
      "photoUrl": "https://lh3.googleusercontent.com/a-/AOh14GgpWHtnVqeOz3R8ZN_aCneM4Ys0mkXEOSqeXNpi7A=s64",
      "userId": "17861245123904241513"
     },
     "user_tz": -330
    },
    "id": "AMdTzUWura9c",
    "outputId": "9ec9b187-a0d1-46bc-fbdc-61a454ef5426"
   },
   "outputs": [
    {
     "name": "stdout",
     "output_type": "stream",
     "text": [
      "Requirement already satisfied: en_core_web_sm==2.1.0 from https://github.com/explosion/spacy-models/releases/download/en_core_web_sm-2.1.0/en_core_web_sm-2.1.0.tar.gz#egg=en_core_web_sm==2.1.0 in /usr/local/lib/python3.6/dist-packages (2.1.0)\n",
      "\u001b[38;5;2m✔ Download and installation successful\u001b[0m\n",
      "You can now load the model via spacy.load('en_core_web_sm')\n"
     ]
    }
   ],
   "source": [
    "!python -m spacy download en_core_web_sm"
   ]
  },
  {
   "cell_type": "code",
   "execution_count": 0,
   "metadata": {
    "_cell_guid": "b1076dfc-b9ad-4769-8c92-a6c4dae69d19",
    "_uuid": "8f2839f25d086af736a60e9eeb907d3b93b6e0e5",
    "colab": {},
    "colab_type": "code",
    "id": "A89cdVjwra9j"
   },
   "outputs": [],
   "source": [
    "nlp = spacy.load('en_core_web_sm')"
   ]
  },
  {
   "cell_type": "markdown",
   "metadata": {
    "_uuid": "ff5ed9e9b8ff194c3234c2c7c15d8827108f41bd",
    "colab_type": "text",
    "id": "XlMcjzhura9o"
   },
   "source": [
    "Consider that we have a text document obtained the movie plot obtained from wikipedia. "
   ]
  },
  {
   "cell_type": "code",
   "execution_count": 0,
   "metadata": {
    "_uuid": "19293f77a8fc545bde5281c2cbdccc08c3d42efa",
    "colab": {},
    "colab_type": "code",
    "id": "78fWV7Bdra9s"
   },
   "outputs": [],
   "source": [
    "doc = \"\"\"Alice follows a large white rabbit down a \"Rabbit-hole\". She finds a tiny door. When she finds a bottle labeled \"Drink me\", she does, and shrinks, but not enough to pass through the door. She then eats something labeled \"Eat me\" and grows larger. She finds a fan when enables her to shrink enough to get into the \"Garden\" and try to get a \"Dog\" to play with her. She enters the \"White Rabbit's tiny House,\" but suddenly resumes her normal size. In order to get out, she has to use the \"magic fan.\"\n",
    "She enters a kitchen, in which there is a cook and a woman holding a baby. She persuades the woman to give her the child and takes the infant outside after the cook starts throwing things around. The baby then turns into a pig and squirms out of her grip. \"The Duchess's Cheshire Cat\" appears and disappears a couple of times to Alice and directs her to the Mad Hatter's \"Mad Tea-Party.\" After a while, she leaves.\n",
    "The Queen invites Alice to join the \"ROYAL PROCESSION\": a parade of marching playing cards and others headed by the White Rabbit. When Alice \"unintentionally offends the Queen\", the latter summons the \"Executioner\". Alice \"boxes the ears\", then flees when all the playing cards come for her. Then she wakes up and realizes it was all a dream.\"\"\""
   ]
  },
  {
   "cell_type": "markdown",
   "metadata": {
    "_uuid": "ff89553ea717c5b78afdcb5b67431803a560d801",
    "colab_type": "text",
    "id": "GTXoZFNera95"
   },
   "source": [
    "Before using the features of spacy,  we need to convert the text document into spacy document using the \"nlp\" object created. "
   ]
  },
  {
   "cell_type": "code",
   "execution_count": 0,
   "metadata": {
    "_uuid": "f5f4a400882611bccdf41156274559356431a391",
    "colab": {},
    "colab_type": "code",
    "id": "sSI9yFLNra9-",
    "outputId": "42e9ef3c-d28e-4ef9-9728-e0bf328fae4f"
   },
   "outputs": [
    {
     "data": {
      "text/plain": [
       "Alice follows a large white rabbit down a \"Rabbit-hole\". She finds a tiny door. When she finds a bottle labeled \"Drink me\", she does, and shrinks, but not enough to pass through the door. She then eats something labeled \"Eat me\" and grows larger. She finds a fan when enables her to shrink enough to get into the \"Garden\" and try to get a \"Dog\" to play with her. She enters the \"White Rabbit's tiny House,\" but suddenly resumes her normal size. In order to get out, she has to use the \"magic fan.\"\n",
       "She enters a kitchen, in which there is a cook and a woman holding a baby. She persuades the woman to give her the child and takes the infant outside after the cook starts throwing things around. The baby then turns into a pig and squirms out of her grip. \"The Duchess's Cheshire Cat\" appears and disappears a couple of times to Alice and directs her to the Mad Hatter's \"Mad Tea-Party.\" After a while, she leaves.\n",
       "The Queen invites Alice to join the \"ROYAL PROCESSION\": a parade of marching playing cards and others headed by the White Rabbit. When Alice \"unintentionally offends the Queen\", the latter summons the \"Executioner\". Alice \"boxes the ears\", then flees when all the playing cards come for her. Then she wakes up and realizes it was all a dream."
      ]
     },
     "execution_count": 9,
     "metadata": {
      "tags": []
     },
     "output_type": "execute_result"
    }
   ],
   "source": [
    "spacy_doc = nlp(doc)\n",
    "spacy_doc"
   ]
  },
  {
   "cell_type": "markdown",
   "metadata": {
    "_uuid": "ef17605014a2108c7923b0147520c51c2856a5cf",
    "colab_type": "text",
    "id": "EvqfJDm7ra-F"
   },
   "source": [
    "### 4. Tokenization \n",
    "\n",
    "First, we will see how can we perform tokenization at word level and sentence level using spacy. \n",
    "\n",
    "**Word Level Tokenization** : To obtain word tokens, we just need to access the spacy document as list, all the tokens will be obtained. This is because when we converted the document into spacy document, this step was already performed. "
   ]
  },
  {
   "cell_type": "code",
   "execution_count": 0,
   "metadata": {
    "_uuid": "22c035d9c6f731f6ec0976d4a1e81852d2ae8fbf",
    "colab": {},
    "colab_type": "code",
    "id": "w9FFWk9Vra-I",
    "outputId": "8ed0589e-98be-4fa1-bc23-5ac8b199d3a2"
   },
   "outputs": [
    {
     "name": "stdout",
     "output_type": "stream",
     "text": [
      "[Alice, follows, a, large, white, rabbit, down, a, \", Rabbit, -, hole, \", ., She, finds, a, tiny, door, ., When, she, finds, a, bottle, labeled, \", Drink, me, \", ,, she, does, ,, and, shrinks, ,, but, not, enough, to, pass, through, the, door, ., She, then, eats, something, labeled, \", Eat, me, \", and, grows, larger, ., She, finds, a, fan, when, enables, her, to, shrink, enough, to, get, into, the, \", Garden, \", and, try, to, get, a, \", Dog, \", to, play, with, her, ., She, enters, the, \", White, Rabbit, 's, tiny, House, ,, \", but, suddenly, resumes, her, normal, size, ., In, order, to, get, out, ,, she, has, to, use, the, \", magic, fan, ., \", \n",
      ", She, enters, a, kitchen, ,, in, which, there, is, a, cook, and, a, woman, holding, a, baby, ., She, persuades, the, woman, to, give, her, the, child, and, takes, the, infant, outside, after, the, cook, starts, throwing, things, around, ., The, baby, then, turns, into, a, pig, and, squirms, out, of, her, grip, ., \", The, Duchess, 's, Cheshire, Cat, \", appears, and, disappears, a, couple, of, times, to, Alice, and, directs, her, to, the, Mad, Hatter, 's, \", Mad, Tea, -, Party, ., \", After, a, while, ,, she, leaves, ., \n",
      ", The, Queen, invites, Alice, to, join, the, \", ROYAL, PROCESSION, \", :, a, parade, of, marching, playing, cards, and, others, headed, by, the, White, Rabbit, ., When, Alice, \", unintentionally, offends, the, Queen, \", ,, the, latter, summons, the, \", Executioner, \", ., Alice, \", boxes, the, ears, \", ,, then, flees, when, all, the, playing, cards, come, for, her, ., Then, she, wakes, up, and, realizes, it, was, all, a, dream, .]\n"
     ]
    }
   ],
   "source": [
    "tokens = list(spacy_doc)\n",
    "print (tokens)"
   ]
  },
  {
   "cell_type": "markdown",
   "metadata": {
    "_uuid": "1424a33c7c1c1a18a57d7b5f9ad787ca753b620d",
    "colab_type": "text",
    "id": "81d-j0jdra-O"
   },
   "source": [
    "Similarly, for **sentence level tokenization**, we can acess the sentences using following syntax. It will give a generator object. \n",
    "\n",
    "    spacy_doc.sents\n"
   ]
  },
  {
   "cell_type": "code",
   "execution_count": 0,
   "metadata": {
    "_uuid": "2d7d35801f121650c52605acce1872698760c0e9",
    "colab": {},
    "colab_type": "code",
    "id": "0Vta9xVwra-Q",
    "outputId": "faad4fd2-b838-4be0-fc6d-35204d0dd23b"
   },
   "outputs": [
    {
     "name": "stdout",
     "output_type": "stream",
     "text": [
      "0 Alice follows a large white rabbit down a \"Rabbit-hole\".\n",
      "1 She finds a tiny door.\n",
      "2 When she finds a bottle labeled \"Drink me\", she does, and shrinks, but not enough to pass through the door.\n",
      "3 She then eats something labeled \"Eat me\" and grows larger.\n",
      "4 She finds a fan when enables her to shrink enough to get into the \"Garden\" and try to get a \"Dog\" to play with her.\n",
      "5 She enters the \"White Rabbit's tiny House,\" but suddenly resumes her normal size.\n",
      "6 In order to get out, she has to use the \"magic fan.\n",
      "7 \"\n",
      "\n",
      "8 She enters a kitchen, in which there is a cook and a woman holding a baby.\n",
      "9 She persuades the woman to give her the child and takes the infant outside after the cook starts throwing things around.\n",
      "10 The baby then turns into a pig and squirms out of her grip.\n",
      "11 \"\n",
      "12 The Duchess's Cheshire Cat\" appears and disappears a couple of times to Alice and directs her to the Mad Hatter's \"Mad Tea-Party.\n",
      "13 \"\n",
      "14 After a while, she leaves.\n",
      "\n",
      "15 The Queen invites Alice to join the \"ROYAL PROCESSION\": a parade of marching playing cards and others headed by the White Rabbit.\n",
      "16 When Alice \"unintentionally offends the Queen\", the latter summons the \"Executioner\".\n",
      "17 Alice \"boxes the ears\", then flees when all the playing cards come for her.\n",
      "18 Then she wakes up and realizes it was all a dream.\n"
     ]
    }
   ],
   "source": [
    "for index, sentence in enumerate(spacy_doc.sents):\n",
    "    print (index, sentence)"
   ]
  },
  {
   "cell_type": "markdown",
   "metadata": {
    "_uuid": "02a87ebb83ab84caf5e09602e0e29a7c05c58070",
    "colab_type": "text",
    "id": "1-bSqm8rra-U"
   },
   "source": [
    "### 5. Text Cleaning \n",
    "\n",
    "In this section, we will see how can we access different properties of tokens produced in spacy object that can be used to remove noise in the text. Different properties of spacy tokens can be viewed using following syntax. "
   ]
  },
  {
   "cell_type": "code",
   "execution_count": 0,
   "metadata": {
    "_uuid": "cc70b06a5a5a4d073620628e65a9112e9a0f171c",
    "colab": {},
    "colab_type": "code",
    "id": "VUtUQG7Ura-V",
    "outputId": "8d1b0184-8923-4272-ff33-bc1d762717a5"
   },
   "outputs": [
    {
     "name": "stdout",
     "output_type": "stream",
     "text": [
      "['_', '__bytes__', '__class__', '__delattr__', '__dir__', '__doc__', '__eq__', '__format__', '__ge__', '__getattribute__', '__gt__', '__hash__', '__init__', '__init_subclass__', '__le__', '__len__', '__lt__', '__ne__', '__new__', '__pyx_vtable__', '__reduce__', '__reduce_ex__', '__repr__', '__setattr__', '__sizeof__', '__str__', '__subclasshook__', '__unicode__', 'ancestors', 'check_flag', 'children', 'cluster', 'conjuncts', 'dep', 'dep_', 'doc', 'ent_id', 'ent_id_', 'ent_iob', 'ent_iob_', 'ent_kb_id', 'ent_kb_id_', 'ent_type', 'ent_type_', 'get_extension', 'has_extension', 'has_vector', 'head', 'i', 'idx', 'is_alpha', 'is_ancestor', 'is_ascii', 'is_bracket', 'is_currency', 'is_digit', 'is_left_punct', 'is_lower', 'is_oov', 'is_punct', 'is_quote', 'is_right_punct', 'is_sent_start', 'is_space', 'is_stop', 'is_title', 'is_upper', 'lang', 'lang_', 'left_edge', 'lefts', 'lemma', 'lemma_', 'lex_id', 'like_email', 'like_num', 'like_url', 'lower', 'lower_', 'n_lefts', 'n_rights', 'nbor', 'norm', 'norm_', 'orth', 'orth_', 'pos', 'pos_', 'prefix', 'prefix_', 'prob', 'rank', 'remove_extension', 'right_edge', 'rights', 'sent', 'sent_start', 'sentiment', 'set_extension', 'shape', 'shape_', 'similarity', 'string', 'subtree', 'suffix', 'suffix_', 'tag', 'tag_', 'text', 'text_with_ws', 'vector', 'vector_norm', 'vocab', 'whitespace_']\n"
     ]
    }
   ],
   "source": [
    "first_word = tokens[4]\n",
    "print (dir(first_word))"
   ]
  },
  {
   "cell_type": "markdown",
   "metadata": {
    "_uuid": "f24e005b6541dee7fd43b3727c5068ec5347d344",
    "colab_type": "text",
    "id": "lWszKiK5ra-b"
   },
   "source": [
    "We can see that there are many properties of every token. Let's view some of these properties. "
   ]
  },
  {
   "cell_type": "code",
   "execution_count": 0,
   "metadata": {
    "colab": {},
    "colab_type": "code",
    "id": "ZuI-wFIFra-e",
    "outputId": "3f5366fe-59e0-4b8f-dec2-73c7b03c0e76"
   },
   "outputs": [
    {
     "data": {
      "text/plain": [
       "spacy.tokens.token.Token"
      ]
     },
     "execution_count": 20,
     "metadata": {
      "tags": []
     },
     "output_type": "execute_result"
    }
   ],
   "source": [
    "type(first_word)"
   ]
  },
  {
   "cell_type": "code",
   "execution_count": 0,
   "metadata": {
    "_uuid": "5fd15d589c534599763615dd4208c15efc4f9360",
    "colab": {},
    "colab_type": "code",
    "id": "NV_aruG1ra-o",
    "outputId": "a38e33c8-f5c4-4339-e98b-ea03765bbc68"
   },
   "outputs": [
    {
     "name": "stdout",
     "output_type": "stream",
     "text": [
      "is_bracket:  False\n",
      "like_num:  False\n",
      "right_edge:  white\n",
      "sentiment:  0.0\n",
      "dep_:  amod\n"
     ]
    }
   ],
   "source": [
    "print (\"is_bracket: \", first_word.is_bracket)\n",
    "print (\"like_num: \", first_word.like_num)\n",
    "print (\"right_edge: \", first_word.right_edge)\n",
    "print (\"sentiment: \", first_word.sentiment)\n",
    "print (\"dep_: \", first_word.dep_)"
   ]
  },
  {
   "cell_type": "markdown",
   "metadata": {
    "_uuid": "c28c85d904580c205f00022f83e48e520fb4c06b",
    "colab_type": "text",
    "id": "f1aJ_2-qra-0"
   },
   "source": [
    "Using these properties, we can infact clean the text data. For example, following code cell shows how to remove the tokens which are punctuations and stopwords, and lemmatize the remaining ones. \n",
    "\n",
    "#### Removal of Punctionation \n",
    "\n",
    "property : is_punct"
   ]
  },
  {
   "cell_type": "code",
   "execution_count": 0,
   "metadata": {
    "_uuid": "7545e863080f3dac4d617869d7144faac89aacbb",
    "colab": {},
    "colab_type": "code",
    "id": "-PgAKD1fra-2"
   },
   "outputs": [],
   "source": [
    "tokens = [t for t in tokens if (t.is_punct == False)]"
   ]
  },
  {
   "cell_type": "markdown",
   "metadata": {
    "_uuid": "bdb6f81eb56374bf3e19b49ad1fa1c00efd14646",
    "colab_type": "text",
    "id": "5aQYvMylra-6"
   },
   "source": [
    "#### Removal of Stopwords \n",
    "\n",
    "property : is_stop"
   ]
  },
  {
   "cell_type": "code",
   "execution_count": 0,
   "metadata": {
    "_uuid": "d1534ad9d037f87e93e8b14792d029658b3b60b8",
    "colab": {},
    "colab_type": "code",
    "id": "ljAU3F99ra-7"
   },
   "outputs": [],
   "source": [
    "tokens = [t for t in tokens if (t.is_stop == False)]"
   ]
  },
  {
   "cell_type": "markdown",
   "metadata": {
    "_uuid": "4b049b6af808a51265e6572be13f0f9cd596dce1",
    "colab_type": "text",
    "id": "ejIXQUBkra_C"
   },
   "source": [
    "#### Token lemmatization\n",
    "\n",
    "property : lemma_"
   ]
  },
  {
   "cell_type": "code",
   "execution_count": 0,
   "metadata": {
    "_uuid": "15879607c719a9d64937e982b6f7990d7d4fa858",
    "colab": {},
    "colab_type": "code",
    "id": "uBagAyBBra_D"
   },
   "outputs": [],
   "source": [
    "lemmatized_words = [token.lemma_ for token in tokens]"
   ]
  },
  {
   "cell_type": "markdown",
   "metadata": {
    "_uuid": "33171ba64381dff231882d20a1107c27bdd63497",
    "colab_type": "text",
    "id": "0jrofZ1jra_I"
   },
   "source": [
    "Finally, we join these lemmatized words to produce a cleaned document. "
   ]
  },
  {
   "cell_type": "code",
   "execution_count": 0,
   "metadata": {
    "_uuid": "3995204a51a06a3c4239179cd76787c8c648f849",
    "colab": {},
    "colab_type": "code",
    "id": "SjwlGmRBra_K",
    "outputId": "149da9e5-840a-4f00-c27c-40edfe122114"
   },
   "outputs": [
    {
     "data": {
      "text/plain": [
       "'Alice follow large white rabbit rabbit hole find tiny door find bottle label drink shrink pass door eat label eat grow large find fan enable shrink Garden try Dog play enter White Rabbit tiny House suddenly resume normal size order use magic fan \\n enter kitchen cook woman hold baby persuade woman child take infant outside cook start throw thing baby turn pig squirm grip Duchess Cheshire Cat appear disappear couple time Alice direct Mad Hatter mad Tea Party leave \\n Queen invite Alice join ROYAL procession parade march playing card head White Rabbit Alice unintentionally offend queen summon Executioner Alice box ear flee playing card come wake realize dream'"
      ]
     },
     "execution_count": 26,
     "metadata": {
      "tags": []
     },
     "output_type": "execute_result"
    }
   ],
   "source": [
    "cleaned_doc = \" \".join(lemmatized_words)\n",
    "cleaned_doc"
   ]
  },
  {
   "cell_type": "markdown",
   "metadata": {
    "_uuid": "f615632a0b13c95d47f84121d23c0d34de1e6b71",
    "colab_type": "text",
    "id": "a2GwJG3gra_S"
   },
   "source": [
    "### 6. Part of Speech Tagging \n",
    "\n",
    "Next, we look at how can we obtain part of speech tag associated with every token. "
   ]
  },
  {
   "cell_type": "code",
   "execution_count": 0,
   "metadata": {
    "_uuid": "2b7d5c2605cf5109eae6320ac65554d2b16b1644",
    "colab": {},
    "colab_type": "code",
    "id": "6-kXc0-Fra_V",
    "outputId": "4d0eda5b-d0a6-4eaf-b55a-920b09126fa6"
   },
   "outputs": [
    {
     "name": "stdout",
     "output_type": "stream",
     "text": [
      "Token:  Alice POS Tag:  PROPN\n",
      "Token:  follows POS Tag:  VERB\n",
      "Token:  a POS Tag:  DET\n",
      "Token:  large POS Tag:  ADJ\n",
      "Token:  white POS Tag:  ADJ\n",
      "Token:  rabbit POS Tag:  NOUN\n",
      "Token:  down POS Tag:  ADP\n",
      "Token:  a POS Tag:  DET\n",
      "Token:  \" POS Tag:  PUNCT\n",
      "Token:  Rabbit POS Tag:  NOUN\n",
      "Token:  - POS Tag:  PUNCT\n",
      "Token:  hole POS Tag:  PROPN\n",
      "Token:  \" POS Tag:  PUNCT\n",
      "Token:  . POS Tag:  PUNCT\n"
     ]
    }
   ],
   "source": [
    "for sent in spacy_doc.sents:\n",
    "    for token in sent:\n",
    "        print (\"Token: \", token, \"POS Tag: \", token.pos_)\n",
    "    break"
   ]
  },
  {
   "cell_type": "markdown",
   "metadata": {
    "_uuid": "08147351cf0926443ffe9cc378ff6e5b19bd752c",
    "colab_type": "text",
    "id": "pMTmCxVvra_d"
   },
   "source": [
    "### 7. Entity Extraction \n",
    "\n",
    "Using pos tags, Spacy can extract entities as well. Let's see how "
   ]
  },
  {
   "cell_type": "code",
   "execution_count": 0,
   "metadata": {
    "_uuid": "e83c655e87faf9237ff9a2615facb4b7f6788e71",
    "colab": {},
    "colab_type": "code",
    "id": "5cyVkdwwra_g",
    "outputId": "824a62b5-8fae-40ba-ecc8-8ba60af53cbf"
   },
   "outputs": [
    {
     "name": "stdout",
     "output_type": "stream",
     "text": [
      "Entity: the \"Garden\" (Label: FAC )\n",
      "Entity: a \"Dog (Label: WORK_OF_ART )\n",
      "Entity: the \"White Rabbit's (Label: FAC )\n",
      "Entity: House (Label: ORG )\n",
      "Entity: The Duchess's Cheshire Cat (Label: WORK_OF_ART )\n",
      "Entity: Alice (Label: PERSON )\n",
      "Entity: the Mad Hatter's (Label: ORG )\n",
      "Entity: Mad Tea-Party (Label: WORK_OF_ART )\n",
      "Entity: Queen (Label: PERSON )\n",
      "Entity: Alice (Label: PERSON )\n",
      "Entity: the White Rabbit (Label: ORG )\n",
      "Entity: Alice (Label: PERSON )\n",
      "Entity: Queen (Label: PERSON )\n",
      "Entity: Executioner (Label: WORK_OF_ART )\n",
      "Entity: Alice (Label: PERSON )\n"
     ]
    }
   ],
   "source": [
    "for ent in spacy_doc.ents:\n",
    "    if ent.text.strip():\n",
    "        print (\"Entity:\", ent.text, \"(Label:\", ent.label_, \")\")"
   ]
  },
  {
   "cell_type": "markdown",
   "metadata": {
    "_uuid": "59dd7fccb08b726db19301621b57da9cf1be87fb",
    "colab_type": "text",
    "id": "OP3zxCeUra_n"
   },
   "source": [
    "spaCy also provieds a display rendering tool to visualize these entities and their labels. For example : "
   ]
  },
  {
   "cell_type": "code",
   "execution_count": 0,
   "metadata": {
    "_uuid": "1a9f3bbca09caa15768af47cfa688dbfbd12c800",
    "colab": {},
    "colab_type": "code",
    "id": "SwZikprcra_p",
    "outputId": "c8ca24de-e120-42ad-e16c-06f66725e2de"
   },
   "outputs": [
    {
     "data": {
      "text/html": [
       "<div class=\"entities\" style=\"line-height: 2.5; direction: ltr\">Alice follows a large white rabbit down a &quot;Rabbit-hole&quot;. She finds a tiny door. When she finds a bottle labeled &quot;Drink me&quot;, she does, and shrinks, but not enough to pass through the door. She then eats something labeled &quot;Eat me&quot; and grows larger. She finds a fan when enables her to shrink enough to get into \n",
       "<mark class=\"entity\" style=\"background: #ddd; padding: 0.45em 0.6em; margin: 0 0.25em; line-height: 1; border-radius: 0.35em; box-decoration-break: clone; -webkit-box-decoration-break: clone\">\n",
       "    the &quot;Garden&quot;\n",
       "    <span style=\"font-size: 0.8em; font-weight: bold; line-height: 1; border-radius: 0.35em; text-transform: uppercase; vertical-align: middle; margin-left: 0.5rem\">FAC</span>\n",
       "</mark>\n",
       " and try to get \n",
       "<mark class=\"entity\" style=\"background: #f0d0ff; padding: 0.45em 0.6em; margin: 0 0.25em; line-height: 1; border-radius: 0.35em; box-decoration-break: clone; -webkit-box-decoration-break: clone\">\n",
       "    a &quot;Dog\n",
       "    <span style=\"font-size: 0.8em; font-weight: bold; line-height: 1; border-radius: 0.35em; text-transform: uppercase; vertical-align: middle; margin-left: 0.5rem\">WORK_OF_ART</span>\n",
       "</mark>\n",
       "&quot; to play with her. She enters \n",
       "<mark class=\"entity\" style=\"background: #ddd; padding: 0.45em 0.6em; margin: 0 0.25em; line-height: 1; border-radius: 0.35em; box-decoration-break: clone; -webkit-box-decoration-break: clone\">\n",
       "    the &quot;White Rabbit's\n",
       "    <span style=\"font-size: 0.8em; font-weight: bold; line-height: 1; border-radius: 0.35em; text-transform: uppercase; vertical-align: middle; margin-left: 0.5rem\">FAC</span>\n",
       "</mark>\n",
       " tiny \n",
       "<mark class=\"entity\" style=\"background: #7aecec; padding: 0.45em 0.6em; margin: 0 0.25em; line-height: 1; border-radius: 0.35em; box-decoration-break: clone; -webkit-box-decoration-break: clone\">\n",
       "    House\n",
       "    <span style=\"font-size: 0.8em; font-weight: bold; line-height: 1; border-radius: 0.35em; text-transform: uppercase; vertical-align: middle; margin-left: 0.5rem\">ORG</span>\n",
       "</mark>\n",
       ",&quot; but suddenly resumes her normal size. In order to get out, she has to use the &quot;magic fan.&quot;</br>She enters a kitchen, in which there is a cook and a woman holding a baby. She persuades the woman to give her the child and takes the infant outside after the cook starts throwing things around. The baby then turns into a pig and squirms out of her grip. &quot;\n",
       "<mark class=\"entity\" style=\"background: #f0d0ff; padding: 0.45em 0.6em; margin: 0 0.25em; line-height: 1; border-radius: 0.35em; box-decoration-break: clone; -webkit-box-decoration-break: clone\">\n",
       "    The Duchess's Cheshire Cat\n",
       "    <span style=\"font-size: 0.8em; font-weight: bold; line-height: 1; border-radius: 0.35em; text-transform: uppercase; vertical-align: middle; margin-left: 0.5rem\">WORK_OF_ART</span>\n",
       "</mark>\n",
       "&quot; appears and disappears a couple of times to \n",
       "<mark class=\"entity\" style=\"background: #aa9cfc; padding: 0.45em 0.6em; margin: 0 0.25em; line-height: 1; border-radius: 0.35em; box-decoration-break: clone; -webkit-box-decoration-break: clone\">\n",
       "    Alice\n",
       "    <span style=\"font-size: 0.8em; font-weight: bold; line-height: 1; border-radius: 0.35em; text-transform: uppercase; vertical-align: middle; margin-left: 0.5rem\">PERSON</span>\n",
       "</mark>\n",
       " and directs her to \n",
       "<mark class=\"entity\" style=\"background: #7aecec; padding: 0.45em 0.6em; margin: 0 0.25em; line-height: 1; border-radius: 0.35em; box-decoration-break: clone; -webkit-box-decoration-break: clone\">\n",
       "    the Mad Hatter's\n",
       "    <span style=\"font-size: 0.8em; font-weight: bold; line-height: 1; border-radius: 0.35em; text-transform: uppercase; vertical-align: middle; margin-left: 0.5rem\">ORG</span>\n",
       "</mark>\n",
       " &quot;\n",
       "<mark class=\"entity\" style=\"background: #f0d0ff; padding: 0.45em 0.6em; margin: 0 0.25em; line-height: 1; border-radius: 0.35em; box-decoration-break: clone; -webkit-box-decoration-break: clone\">\n",
       "    Mad Tea-Party\n",
       "    <span style=\"font-size: 0.8em; font-weight: bold; line-height: 1; border-radius: 0.35em; text-transform: uppercase; vertical-align: middle; margin-left: 0.5rem\">WORK_OF_ART</span>\n",
       "</mark>\n",
       ".&quot; After a while, she leaves.</br>The \n",
       "<mark class=\"entity\" style=\"background: #aa9cfc; padding: 0.45em 0.6em; margin: 0 0.25em; line-height: 1; border-radius: 0.35em; box-decoration-break: clone; -webkit-box-decoration-break: clone\">\n",
       "    Queen\n",
       "    <span style=\"font-size: 0.8em; font-weight: bold; line-height: 1; border-radius: 0.35em; text-transform: uppercase; vertical-align: middle; margin-left: 0.5rem\">PERSON</span>\n",
       "</mark>\n",
       " invites \n",
       "<mark class=\"entity\" style=\"background: #aa9cfc; padding: 0.45em 0.6em; margin: 0 0.25em; line-height: 1; border-radius: 0.35em; box-decoration-break: clone; -webkit-box-decoration-break: clone\">\n",
       "    Alice\n",
       "    <span style=\"font-size: 0.8em; font-weight: bold; line-height: 1; border-radius: 0.35em; text-transform: uppercase; vertical-align: middle; margin-left: 0.5rem\">PERSON</span>\n",
       "</mark>\n",
       " to join the &quot;ROYAL PROCESSION&quot;: a parade of marching playing cards and others headed by \n",
       "<mark class=\"entity\" style=\"background: #7aecec; padding: 0.45em 0.6em; margin: 0 0.25em; line-height: 1; border-radius: 0.35em; box-decoration-break: clone; -webkit-box-decoration-break: clone\">\n",
       "    the White Rabbit\n",
       "    <span style=\"font-size: 0.8em; font-weight: bold; line-height: 1; border-radius: 0.35em; text-transform: uppercase; vertical-align: middle; margin-left: 0.5rem\">ORG</span>\n",
       "</mark>\n",
       ". When \n",
       "<mark class=\"entity\" style=\"background: #aa9cfc; padding: 0.45em 0.6em; margin: 0 0.25em; line-height: 1; border-radius: 0.35em; box-decoration-break: clone; -webkit-box-decoration-break: clone\">\n",
       "    Alice\n",
       "    <span style=\"font-size: 0.8em; font-weight: bold; line-height: 1; border-radius: 0.35em; text-transform: uppercase; vertical-align: middle; margin-left: 0.5rem\">PERSON</span>\n",
       "</mark>\n",
       " &quot;unintentionally offends the \n",
       "<mark class=\"entity\" style=\"background: #aa9cfc; padding: 0.45em 0.6em; margin: 0 0.25em; line-height: 1; border-radius: 0.35em; box-decoration-break: clone; -webkit-box-decoration-break: clone\">\n",
       "    Queen\n",
       "    <span style=\"font-size: 0.8em; font-weight: bold; line-height: 1; border-radius: 0.35em; text-transform: uppercase; vertical-align: middle; margin-left: 0.5rem\">PERSON</span>\n",
       "</mark>\n",
       "&quot;, the latter summons the &quot;\n",
       "<mark class=\"entity\" style=\"background: #f0d0ff; padding: 0.45em 0.6em; margin: 0 0.25em; line-height: 1; border-radius: 0.35em; box-decoration-break: clone; -webkit-box-decoration-break: clone\">\n",
       "    Executioner\n",
       "    <span style=\"font-size: 0.8em; font-weight: bold; line-height: 1; border-radius: 0.35em; text-transform: uppercase; vertical-align: middle; margin-left: 0.5rem\">WORK_OF_ART</span>\n",
       "</mark>\n",
       "&quot;. \n",
       "<mark class=\"entity\" style=\"background: #aa9cfc; padding: 0.45em 0.6em; margin: 0 0.25em; line-height: 1; border-radius: 0.35em; box-decoration-break: clone; -webkit-box-decoration-break: clone\">\n",
       "    Alice\n",
       "    <span style=\"font-size: 0.8em; font-weight: bold; line-height: 1; border-radius: 0.35em; text-transform: uppercase; vertical-align: middle; margin-left: 0.5rem\">PERSON</span>\n",
       "</mark>\n",
       " &quot;boxes the ears&quot;, then flees when all the playing cards come for her. Then she wakes up and realizes it was all a dream.</div>"
      ],
      "text/plain": [
       "<IPython.core.display.HTML object>"
      ]
     },
     "metadata": {
      "tags": []
     },
     "output_type": "display_data"
    }
   ],
   "source": [
    "spacy.displacy.render(spacy_doc, style='ent', jupyter=True)"
   ]
  },
  {
   "cell_type": "markdown",
   "metadata": {
    "_uuid": "f8e32bbe29e780e714e0c5fe7f922c083e6401e2",
    "colab_type": "text",
    "id": "Lzzg3LANra_x"
   },
   "source": [
    "### 8. Noun Chunking \n",
    "\n",
    "Similar to entity extraction, one can easily extract noun chunks using spacy. "
   ]
  },
  {
   "cell_type": "code",
   "execution_count": 0,
   "metadata": {
    "_uuid": "d64187ae275ccd0070809ba232d169bd759f9033",
    "colab": {},
    "colab_type": "code",
    "id": "YKyIAbr9ra_y",
    "outputId": "a4562d10-e500-435a-87a5-32e151674e89"
   },
   "outputs": [
    {
     "name": "stdout",
     "output_type": "stream",
     "text": [
      "sentence 1 Alice\n",
      "sentence 1 a large white rabbit\n",
      "sentence 1 a \"Rabbit-hole\n",
      "sentence 2 She\n",
      "sentence 2 a tiny door\n",
      "sentence 3 she\n",
      "sentence 3 a bottle\n",
      "sentence 3 me\n",
      "sentence 3 she\n",
      "sentence 3 shrinks\n",
      "sentence 3 the door\n",
      "sentence 4 She\n",
      "sentence 4 something\n",
      "sentence 4 me\n",
      "sentence 5 She\n",
      "sentence 5 a fan\n",
      "sentence 5 her\n",
      "sentence 5 the \"Garden\n",
      "sentence 5 a \"Dog\n",
      "sentence 5 her\n",
      "sentence 6 She\n",
      "sentence 6 the \"White Rabbit's tiny House\n",
      "sentence 6 her normal size\n",
      "sentence 7 order\n",
      "sentence 7 she\n",
      "sentence 7 the \"magic fan\n",
      "sentence 9 She\n",
      "sentence 9 a kitchen\n",
      "sentence 9 a cook\n",
      "sentence 9 a woman\n",
      "sentence 9 a baby\n",
      "sentence 10 She\n",
      "sentence 10 the woman\n",
      "sentence 10 her\n",
      "sentence 10 the child\n",
      "sentence 10 the infant\n",
      "sentence 10 the cook\n",
      "sentence 10 things\n",
      "sentence 11 The baby\n",
      "sentence 11 a pig\n",
      "sentence 11 her grip\n",
      "sentence 13 The Duchess's Cheshire Cat\n",
      "sentence 13 a couple\n",
      "sentence 13 times\n",
      "sentence 13 Alice\n",
      "sentence 13 her\n",
      "sentence 13 the Mad Hatter's \"Mad Tea-Party\n",
      "sentence 15 a while\n",
      "sentence 15 she\n",
      "sentence 16 The Queen\n",
      "sentence 16 Alice\n",
      "sentence 16 the \"ROYAL PROCESSION\n",
      "sentence 16 a parade\n",
      "sentence 16 playing cards\n",
      "sentence 16 others\n",
      "sentence 16 the White Rabbit\n",
      "sentence 17 Alice\n",
      "sentence 17 the Queen\n",
      "sentence 17 the latter summons\n",
      "sentence 17 the \"Executioner\n",
      "sentence 18 Alice\n",
      "sentence 18 the ears\n",
      "sentence 18 all the playing cards\n",
      "sentence 18 her\n",
      "sentence 19 she\n",
      "sentence 19 it\n",
      "sentence 19 a dream\n"
     ]
    }
   ],
   "source": [
    "for idx, sentence in enumerate(spacy_doc.sents):\n",
    "    for noun in sentence.noun_chunks:\n",
    "        print(f\"sentence {idx+1}\", noun)"
   ]
  },
  {
   "cell_type": "markdown",
   "metadata": {
    "_uuid": "d2d2e547ada58362e5e1f8c48c1d69cb2270c952",
    "colab_type": "text",
    "id": "nKY3JiLmra_3"
   },
   "source": [
    "### 9. Dependency Parsing\n",
    "\n",
    "Finally, we look at how can we obtain dependecy grammar relations in the sentences. We will use \"dep\" property for this purpose. "
   ]
  },
  {
   "cell_type": "code",
   "execution_count": 0,
   "metadata": {
    "_uuid": "835e06d375135c5f01d3f155e601373565bb02e5",
    "colab": {},
    "colab_type": "code",
    "id": "hmFvYUJKra_4",
    "outputId": "9558c201-4dac-4777-acc4-3e92551cb1d1"
   },
   "outputs": [
    {
     "name": "stdout",
     "output_type": "stream",
     "text": [
      "Token:  Alice ( nsubj )\n",
      "Token:  follows ( ROOT )\n",
      "Token:  a ( det )\n",
      "Token:  large ( amod )\n",
      "Token:  white ( amod )\n",
      "Token:  rabbit ( dobj )\n",
      "Token:  down ( prep )\n",
      "Token:  a ( det )\n",
      "Token:  \" ( punct )\n",
      "Token:  Rabbit ( compound )\n",
      "Token:  - ( punct )\n",
      "Token:  hole ( pobj )\n",
      "Token:  \" ( punct )\n",
      "Token:  . ( punct )\n"
     ]
    }
   ],
   "source": [
    "for token in list(spacy_doc.sents)[0]:\n",
    "    print (\"Token: \", token.text, \"(\", token.dep_, \")\")"
   ]
  },
  {
   "cell_type": "markdown",
   "metadata": {
    "_uuid": "e1a5bbf37bc19db79d3707f9abc261a940f22696",
    "colab_type": "text",
    "id": "9_NZBd4ara_7"
   },
   "source": [
    "Let's visualize the grammar tree as well"
   ]
  },
  {
   "cell_type": "code",
   "execution_count": 0,
   "metadata": {
    "_uuid": "9e529e72dbfb041ed8c737d0c8ef22676f60fd70",
    "colab": {},
    "colab_type": "code",
    "id": "5sTGO3LMra_8",
    "outputId": "a19531e8-2ae1-4e46-cf9e-45617fb7e908"
   },
   "outputs": [
    {
     "data": {
      "text/html": [
       "<svg xmlns=\"http://www.w3.org/2000/svg\" xmlns:xlink=\"http://www.w3.org/1999/xlink\" xml:lang=\"en\" id=\"b6952aaf48024682b117620e2048891f-0\" class=\"displacy\" width=\"1550\" height=\"512.0\" direction=\"ltr\" style=\"max-width: none; height: 512.0px; color: white; background: #09a3d5; font-family: Trebuchet MS; direction: ltr\">\n",
       "<text class=\"displacy-token\" fill=\"currentColor\" text-anchor=\"middle\" y=\"422.0\">\n",
       "    <tspan class=\"displacy-word\" fill=\"currentColor\" x=\"50\">Alice</tspan>\n",
       "    <tspan class=\"displacy-tag\" dy=\"2em\" fill=\"currentColor\" x=\"50\">PROPN</tspan>\n",
       "</text>\n",
       "\n",
       "<text class=\"displacy-token\" fill=\"currentColor\" text-anchor=\"middle\" y=\"422.0\">\n",
       "    <tspan class=\"displacy-word\" fill=\"currentColor\" x=\"200\">follows</tspan>\n",
       "    <tspan class=\"displacy-tag\" dy=\"2em\" fill=\"currentColor\" x=\"200\">VERB</tspan>\n",
       "</text>\n",
       "\n",
       "<text class=\"displacy-token\" fill=\"currentColor\" text-anchor=\"middle\" y=\"422.0\">\n",
       "    <tspan class=\"displacy-word\" fill=\"currentColor\" x=\"350\">a</tspan>\n",
       "    <tspan class=\"displacy-tag\" dy=\"2em\" fill=\"currentColor\" x=\"350\">DET</tspan>\n",
       "</text>\n",
       "\n",
       "<text class=\"displacy-token\" fill=\"currentColor\" text-anchor=\"middle\" y=\"422.0\">\n",
       "    <tspan class=\"displacy-word\" fill=\"currentColor\" x=\"500\">large</tspan>\n",
       "    <tspan class=\"displacy-tag\" dy=\"2em\" fill=\"currentColor\" x=\"500\">ADJ</tspan>\n",
       "</text>\n",
       "\n",
       "<text class=\"displacy-token\" fill=\"currentColor\" text-anchor=\"middle\" y=\"422.0\">\n",
       "    <tspan class=\"displacy-word\" fill=\"currentColor\" x=\"650\">white</tspan>\n",
       "    <tspan class=\"displacy-tag\" dy=\"2em\" fill=\"currentColor\" x=\"650\">ADJ</tspan>\n",
       "</text>\n",
       "\n",
       "<text class=\"displacy-token\" fill=\"currentColor\" text-anchor=\"middle\" y=\"422.0\">\n",
       "    <tspan class=\"displacy-word\" fill=\"currentColor\" x=\"800\">rabbit</tspan>\n",
       "    <tspan class=\"displacy-tag\" dy=\"2em\" fill=\"currentColor\" x=\"800\">NOUN</tspan>\n",
       "</text>\n",
       "\n",
       "<text class=\"displacy-token\" fill=\"currentColor\" text-anchor=\"middle\" y=\"422.0\">\n",
       "    <tspan class=\"displacy-word\" fill=\"currentColor\" x=\"950\">down</tspan>\n",
       "    <tspan class=\"displacy-tag\" dy=\"2em\" fill=\"currentColor\" x=\"950\">ADP</tspan>\n",
       "</text>\n",
       "\n",
       "<text class=\"displacy-token\" fill=\"currentColor\" text-anchor=\"middle\" y=\"422.0\">\n",
       "    <tspan class=\"displacy-word\" fill=\"currentColor\" x=\"1100\">a &quot;</tspan>\n",
       "    <tspan class=\"displacy-tag\" dy=\"2em\" fill=\"currentColor\" x=\"1100\">DET</tspan>\n",
       "</text>\n",
       "\n",
       "<text class=\"displacy-token\" fill=\"currentColor\" text-anchor=\"middle\" y=\"422.0\">\n",
       "    <tspan class=\"displacy-word\" fill=\"currentColor\" x=\"1250\">Rabbit-</tspan>\n",
       "    <tspan class=\"displacy-tag\" dy=\"2em\" fill=\"currentColor\" x=\"1250\">NOUN</tspan>\n",
       "</text>\n",
       "\n",
       "<text class=\"displacy-token\" fill=\"currentColor\" text-anchor=\"middle\" y=\"422.0\">\n",
       "    <tspan class=\"displacy-word\" fill=\"currentColor\" x=\"1400\">hole&quot;.</tspan>\n",
       "    <tspan class=\"displacy-tag\" dy=\"2em\" fill=\"currentColor\" x=\"1400\">PROPN</tspan>\n",
       "</text>\n",
       "\n",
       "<g class=\"displacy-arrow\">\n",
       "    <path class=\"displacy-arc\" id=\"arrow-b6952aaf48024682b117620e2048891f-0-0\" stroke-width=\"2px\" d=\"M62,377.0 62,352.0 188.0,352.0 188.0,377.0\" fill=\"none\" stroke=\"currentColor\"/>\n",
       "    <text dy=\"1.25em\" style=\"font-size: 0.8em; letter-spacing: 1px\">\n",
       "        <textPath xlink:href=\"#arrow-b6952aaf48024682b117620e2048891f-0-0\" class=\"displacy-label\" startOffset=\"50%\" side=\"left\" fill=\"currentColor\" text-anchor=\"middle\">nsubj</textPath>\n",
       "    </text>\n",
       "    <path class=\"displacy-arrowhead\" d=\"M62,379.0 L58,371.0 66,371.0\" fill=\"currentColor\"/>\n",
       "</g>\n",
       "\n",
       "<g class=\"displacy-arrow\">\n",
       "    <path class=\"displacy-arc\" id=\"arrow-b6952aaf48024682b117620e2048891f-0-1\" stroke-width=\"2px\" d=\"M362,377.0 362,302.0 794.0,302.0 794.0,377.0\" fill=\"none\" stroke=\"currentColor\"/>\n",
       "    <text dy=\"1.25em\" style=\"font-size: 0.8em; letter-spacing: 1px\">\n",
       "        <textPath xlink:href=\"#arrow-b6952aaf48024682b117620e2048891f-0-1\" class=\"displacy-label\" startOffset=\"50%\" side=\"left\" fill=\"currentColor\" text-anchor=\"middle\">det</textPath>\n",
       "    </text>\n",
       "    <path class=\"displacy-arrowhead\" d=\"M362,379.0 L358,371.0 366,371.0\" fill=\"currentColor\"/>\n",
       "</g>\n",
       "\n",
       "<g class=\"displacy-arrow\">\n",
       "    <path class=\"displacy-arc\" id=\"arrow-b6952aaf48024682b117620e2048891f-0-2\" stroke-width=\"2px\" d=\"M512,377.0 512,327.0 791.0,327.0 791.0,377.0\" fill=\"none\" stroke=\"currentColor\"/>\n",
       "    <text dy=\"1.25em\" style=\"font-size: 0.8em; letter-spacing: 1px\">\n",
       "        <textPath xlink:href=\"#arrow-b6952aaf48024682b117620e2048891f-0-2\" class=\"displacy-label\" startOffset=\"50%\" side=\"left\" fill=\"currentColor\" text-anchor=\"middle\">amod</textPath>\n",
       "    </text>\n",
       "    <path class=\"displacy-arrowhead\" d=\"M512,379.0 L508,371.0 516,371.0\" fill=\"currentColor\"/>\n",
       "</g>\n",
       "\n",
       "<g class=\"displacy-arrow\">\n",
       "    <path class=\"displacy-arc\" id=\"arrow-b6952aaf48024682b117620e2048891f-0-3\" stroke-width=\"2px\" d=\"M662,377.0 662,352.0 788.0,352.0 788.0,377.0\" fill=\"none\" stroke=\"currentColor\"/>\n",
       "    <text dy=\"1.25em\" style=\"font-size: 0.8em; letter-spacing: 1px\">\n",
       "        <textPath xlink:href=\"#arrow-b6952aaf48024682b117620e2048891f-0-3\" class=\"displacy-label\" startOffset=\"50%\" side=\"left\" fill=\"currentColor\" text-anchor=\"middle\">amod</textPath>\n",
       "    </text>\n",
       "    <path class=\"displacy-arrowhead\" d=\"M662,379.0 L658,371.0 666,371.0\" fill=\"currentColor\"/>\n",
       "</g>\n",
       "\n",
       "<g class=\"displacy-arrow\">\n",
       "    <path class=\"displacy-arc\" id=\"arrow-b6952aaf48024682b117620e2048891f-0-4\" stroke-width=\"2px\" d=\"M212,377.0 212,277.0 797.0,277.0 797.0,377.0\" fill=\"none\" stroke=\"currentColor\"/>\n",
       "    <text dy=\"1.25em\" style=\"font-size: 0.8em; letter-spacing: 1px\">\n",
       "        <textPath xlink:href=\"#arrow-b6952aaf48024682b117620e2048891f-0-4\" class=\"displacy-label\" startOffset=\"50%\" side=\"left\" fill=\"currentColor\" text-anchor=\"middle\">dobj</textPath>\n",
       "    </text>\n",
       "    <path class=\"displacy-arrowhead\" d=\"M797.0,379.0 L801.0,371.0 793.0,371.0\" fill=\"currentColor\"/>\n",
       "</g>\n",
       "\n",
       "<g class=\"displacy-arrow\">\n",
       "    <path class=\"displacy-arc\" id=\"arrow-b6952aaf48024682b117620e2048891f-0-5\" stroke-width=\"2px\" d=\"M212,377.0 212,252.0 950.0,252.0 950.0,377.0\" fill=\"none\" stroke=\"currentColor\"/>\n",
       "    <text dy=\"1.25em\" style=\"font-size: 0.8em; letter-spacing: 1px\">\n",
       "        <textPath xlink:href=\"#arrow-b6952aaf48024682b117620e2048891f-0-5\" class=\"displacy-label\" startOffset=\"50%\" side=\"left\" fill=\"currentColor\" text-anchor=\"middle\">prep</textPath>\n",
       "    </text>\n",
       "    <path class=\"displacy-arrowhead\" d=\"M950.0,379.0 L954.0,371.0 946.0,371.0\" fill=\"currentColor\"/>\n",
       "</g>\n",
       "\n",
       "<g class=\"displacy-arrow\">\n",
       "    <path class=\"displacy-arc\" id=\"arrow-b6952aaf48024682b117620e2048891f-0-6\" stroke-width=\"2px\" d=\"M1112,377.0 1112,327.0 1391.0,327.0 1391.0,377.0\" fill=\"none\" stroke=\"currentColor\"/>\n",
       "    <text dy=\"1.25em\" style=\"font-size: 0.8em; letter-spacing: 1px\">\n",
       "        <textPath xlink:href=\"#arrow-b6952aaf48024682b117620e2048891f-0-6\" class=\"displacy-label\" startOffset=\"50%\" side=\"left\" fill=\"currentColor\" text-anchor=\"middle\">det</textPath>\n",
       "    </text>\n",
       "    <path class=\"displacy-arrowhead\" d=\"M1112,379.0 L1108,371.0 1116,371.0\" fill=\"currentColor\"/>\n",
       "</g>\n",
       "\n",
       "<g class=\"displacy-arrow\">\n",
       "    <path class=\"displacy-arc\" id=\"arrow-b6952aaf48024682b117620e2048891f-0-7\" stroke-width=\"2px\" d=\"M1262,377.0 1262,352.0 1388.0,352.0 1388.0,377.0\" fill=\"none\" stroke=\"currentColor\"/>\n",
       "    <text dy=\"1.25em\" style=\"font-size: 0.8em; letter-spacing: 1px\">\n",
       "        <textPath xlink:href=\"#arrow-b6952aaf48024682b117620e2048891f-0-7\" class=\"displacy-label\" startOffset=\"50%\" side=\"left\" fill=\"currentColor\" text-anchor=\"middle\">compound</textPath>\n",
       "    </text>\n",
       "    <path class=\"displacy-arrowhead\" d=\"M1262,379.0 L1258,371.0 1266,371.0\" fill=\"currentColor\"/>\n",
       "</g>\n",
       "\n",
       "<g class=\"displacy-arrow\">\n",
       "    <path class=\"displacy-arc\" id=\"arrow-b6952aaf48024682b117620e2048891f-0-8\" stroke-width=\"2px\" d=\"M962,377.0 962,302.0 1394.0,302.0 1394.0,377.0\" fill=\"none\" stroke=\"currentColor\"/>\n",
       "    <text dy=\"1.25em\" style=\"font-size: 0.8em; letter-spacing: 1px\">\n",
       "        <textPath xlink:href=\"#arrow-b6952aaf48024682b117620e2048891f-0-8\" class=\"displacy-label\" startOffset=\"50%\" side=\"left\" fill=\"currentColor\" text-anchor=\"middle\">pobj</textPath>\n",
       "    </text>\n",
       "    <path class=\"displacy-arrowhead\" d=\"M1394.0,379.0 L1398.0,371.0 1390.0,371.0\" fill=\"currentColor\"/>\n",
       "</g>\n",
       "</svg>"
      ],
      "text/plain": [
       "<IPython.core.display.HTML object>"
      ]
     },
     "metadata": {
      "tags": []
     },
     "output_type": "display_data"
    }
   ],
   "source": [
    "options = {'compact': True, 'bg': '#09a3d5', 'color': 'white', 'font': 'Trebuchet MS'}\n",
    "spacy.displacy.render(list(spacy_doc.sents)[0], jupyter=True, style='dep', options=options)"
   ]
  },
  {
   "cell_type": "markdown",
   "metadata": {
    "_uuid": "08bd117a26825dcd76464d6cd7cf90d5f4218878",
    "colab_type": "text",
    "id": "EaaT_Fz-rbAB"
   },
   "source": [
    "### 10. Vector Notations \n",
    "\n",
    "Apart from these features spaCy also provides word vector notations of every token which can be used in machine learning tasks. \n",
    "\n",
    "Let's say we have a token = \"King\", we can obtain its vector notations"
   ]
  },
  {
   "cell_type": "code",
   "execution_count": 0,
   "metadata": {
    "_uuid": "5a0b55e199aa992a947408011d5aac859efe6b27",
    "colab": {},
    "colab_type": "code",
    "id": "XJpE0dS3rbAD",
    "outputId": "60d948fe-1584-44bc-eb2f-92ef0b085607"
   },
   "outputs": [
    {
     "data": {
      "text/plain": [
       "array([ 7.4736037 ,  0.46137482, -1.5020905 , -3.6342316 , -3.747181  ,\n",
       "        0.33441123, -0.11811435,  1.2628598 , -3.6561031 ,  2.6256328 ,\n",
       "       -0.52689743,  2.7288291 , -3.1807365 , -2.530238  ,  3.2181323 ,\n",
       "       -2.5065908 ,  2.44624   ,  2.8922725 , -0.26220754,  4.828217  ,\n",
       "       -0.21059196,  0.09534261,  0.21892688,  4.596204  , -1.724368  ,\n",
       "        0.4087488 , -0.1802884 ,  2.1652985 ,  1.8871667 ,  3.7342432 ,\n",
       "        1.9147943 , -2.2987716 , -1.5665874 , -2.8421073 , -1.1160975 ,\n",
       "        3.016252  ,  2.514526  , -0.7555247 , -0.5631325 , -0.57490623,\n",
       "       -0.6026292 ,  0.53513426, -2.0335    ,  2.0290198 ,  0.7235835 ,\n",
       "        0.1291889 , -5.0321093 , -2.2668278 , -3.6794703 ,  0.33167815,\n",
       "       -3.2573376 , -1.2516382 , -1.6053569 , -1.085084  , -3.3187816 ,\n",
       "       -1.3419424 ,  2.9515033 , -0.3353921 ,  0.5222564 ,  2.21426   ,\n",
       "       -0.94020206,  1.6825581 ,  5.042493  , -0.12874722, -0.66385734,\n",
       "        0.78342074, -1.5885768 ,  0.6391568 , -3.2834673 ,  3.1172378 ,\n",
       "       -2.497601  , -2.876927  , -0.11126198,  3.9758923 ,  1.2952856 ,\n",
       "        2.6786196 , -1.8687707 ,  1.6993929 , -3.8013968 , -0.26683086,\n",
       "       -2.5736217 ,  1.2815658 , -5.545356  ,  0.833022  , -0.8994117 ,\n",
       "       -0.11711282,  0.37723798, -0.05044275,  4.5671864 , -2.9747992 ,\n",
       "        1.3020623 ,  1.8606117 ,  0.1081613 ,  1.0486137 , -1.767656  ,\n",
       "        5.947608  ], dtype=float32)"
      ]
     },
     "execution_count": 42,
     "metadata": {
      "tags": []
     },
     "output_type": "execute_result"
    }
   ],
   "source": [
    "token = nlp(u'king')\n",
    "token.vector"
   ]
  },
  {
   "cell_type": "markdown",
   "metadata": {
    "_uuid": "703bc546bae77b987175f3178947a9b083116c46",
    "colab_type": "text",
    "id": "b09O8oRQrbAL"
   },
   "source": [
    "Let's also print the vector of the token = \"man\"."
   ]
  },
  {
   "cell_type": "code",
   "execution_count": 0,
   "metadata": {
    "_uuid": "976089889ff60602b5c78ee74e83f9e0509b3a9d",
    "colab": {},
    "colab_type": "code",
    "id": "wLhXqIjerbAN",
    "outputId": "f40106ab-dc83-46db-98e8-3e2ab0b55abf"
   },
   "outputs": [
    {
     "data": {
      "text/plain": [
       "array([-1.14936900e+00,  2.05398703e+00,  3.04558516e+00,  1.02784038e+00,\n",
       "       -6.93389714e-01,  1.93840408e+00, -3.38449168e+00, -1.46062493e+00,\n",
       "        8.66491854e-01,  2.06204677e+00,  1.73931193e+00, -1.37765050e+00,\n",
       "       -6.98180258e-01, -1.40720248e+00,  3.26218367e-01,  1.21162653e-01,\n",
       "        1.34244502e-01, -9.06485558e-01, -4.54381108e-01,  1.91038811e+00,\n",
       "        1.84738982e+00,  2.62388921e+00,  2.65022516e-01,  6.50504291e-01,\n",
       "       -1.11452293e+00,  9.24799800e-01, -2.47930855e-01,  3.19517046e-01,\n",
       "        1.31793529e-01, -1.47506595e+00, -1.08983517e-02, -1.06771898e+00,\n",
       "        9.76390839e-01, -3.80290270e-01,  7.58834362e-01, -6.24957740e-01,\n",
       "       -8.05268347e-01,  3.25525427e+00,  1.28473508e+00,  5.32161295e-01,\n",
       "       -2.33017421e+00,  9.98795509e-01,  1.82712936e+00, -1.37854770e-01,\n",
       "       -3.35902619e+00, -1.20148933e+00, -1.63074839e+00, -3.01430130e+00,\n",
       "        4.44018745e+00, -3.28304243e+00,  8.05818915e-01, -2.11897421e+00,\n",
       "        8.20012391e-01,  3.19707692e-02, -1.34611320e+00,  4.13679302e-01,\n",
       "        3.57538152e+00, -1.16323423e+00, -3.06360126e-01,  4.69808280e-01,\n",
       "       -2.10338616e+00, -1.12857056e+00, -3.01801348e+00,  1.54522061e+00,\n",
       "       -1.01865900e+00,  4.00264800e-01, -1.12723112e-02, -1.50166023e+00,\n",
       "        3.11996269e+00,  6.61823034e-01, -2.84986329e+00, -5.79369605e-01,\n",
       "        3.22823167e-01,  1.05026746e+00, -3.00702262e+00, -1.87763333e+00,\n",
       "        1.47807646e+00,  1.42329788e+00, -6.84975028e-01, -1.90528795e-01,\n",
       "       -4.79580545e+00, -3.10195518e+00, -3.02487063e+00, -7.22047567e-01,\n",
       "       -1.15278089e+00,  1.85774219e+00, -2.15699863e+00, -2.44907212e+00,\n",
       "       -2.22751379e+00, -1.84340787e+00, -4.19620800e+00,  6.60465145e+00,\n",
       "       -2.84388304e+00,  9.90790367e-01, -5.01644433e-01,  4.36247730e+00,\n",
       "       -3.14032674e+00,  5.63749373e-01,  2.13808203e+00, -9.10863400e-01,\n",
       "        2.08883882e-02,  3.81275487e+00,  1.16021246e-01, -2.93946981e+00,\n",
       "        2.12060046e+00,  1.51168895e+00,  2.18996859e+00, -3.09312510e+00,\n",
       "       -1.24175704e+00,  1.60558593e+00,  8.00219417e-01, -1.37212491e+00,\n",
       "        5.76481283e-01, -2.58378553e+00,  2.25127721e+00,  2.98779893e+00,\n",
       "       -1.27935147e+00, -7.60140777e-01,  1.70797920e+00, -5.87984800e-01,\n",
       "        4.44795084e+00,  1.81658196e+00,  1.49297762e+00,  1.53552186e+00,\n",
       "        3.51853371e-02,  1.69594657e+00,  5.60222816e+00,  2.60594845e-01,\n",
       "       -6.11629426e-01, -3.72877896e-01,  1.98236108e-01,  2.23602921e-01,\n",
       "       -3.36359322e-01,  5.39815485e-01, -6.74492300e-01,  9.15487647e-01,\n",
       "       -1.71635091e-01,  1.35052025e-01,  7.74602711e-01,  3.53193521e-01,\n",
       "       -1.59769624e-01, -3.00221235e-01, -3.13721180e-01,  9.78251398e-02,\n",
       "       -3.71059120e-01,  6.24629378e-01,  3.89070272e-01, -1.46220520e-01,\n",
       "       -3.03268671e-01,  1.14523381e-01, -6.66874498e-02, -3.04883271e-02,\n",
       "       -1.99569046e-01, -5.38708389e-01, -1.05704367e-02, -3.51037502e-01,\n",
       "       -1.89763129e-01, -6.54046535e-01, -2.38172248e-01, -2.12893277e-01,\n",
       "       -2.41570652e-01, -1.26725048e-01, -6.34258986e-02, -1.87767923e-01,\n",
       "        7.47192562e-01,  2.29953676e-01, -7.35920519e-02,  2.77737617e-01,\n",
       "       -6.12884879e-01,  2.22694039e-01,  1.79826602e-01, -3.89633715e-01,\n",
       "       -3.89922708e-02,  3.46775532e-01, -2.70337760e-02, -3.67593825e-01,\n",
       "       -3.02976817e-01,  2.12971643e-02,  5.09827733e-02, -2.93934971e-01,\n",
       "       -2.20650434e-02, -6.28715932e-01,  1.46890551e-01,  4.83004600e-01,\n",
       "        5.18415928e-01, -1.60159141e-01,  8.99483085e-01,  1.20297663e-01,\n",
       "        6.17548227e-01,  2.06888437e-01,  6.04627609e-01,  4.91251498e-02,\n",
       "       -1.70080334e-01,  3.06065917e-01, -6.58827946e-02,  1.30690187e-02,\n",
       "       -9.38502029e-02, -1.81739002e-01, -4.62567985e-01, -4.41359341e-01,\n",
       "        6.66965842e-01, -2.81039894e-01, -3.53903830e-01,  1.67125881e-01,\n",
       "        6.37601435e-01,  1.51047409e-01,  1.12041295e-01,  2.20178977e-01,\n",
       "        2.97453523e-01, -3.95601124e-01, -1.00795603e+00,  7.69689679e-02,\n",
       "        2.00184882e-01,  4.20916647e-01, -1.10605836e+00, -3.80314082e-01,\n",
       "       -4.78580445e-01, -6.28724694e-03,  2.99299121e-01, -1.70606405e-01,\n",
       "       -4.24873769e-01,  8.29199255e-02,  1.96779788e-01, -1.44016922e-01,\n",
       "       -3.60627860e-01, -4.92429614e-01,  9.20036882e-02, -4.10771132e-01,\n",
       "       -2.65022278e-01,  1.03208077e+00, -5.79534292e-01,  1.18836033e+00,\n",
       "        4.02728319e-01, -6.97129220e-03, -6.46014690e-01,  3.19123626e-01,\n",
       "       -5.46311498e-01,  1.78679764e-01, -5.75607419e-02, -3.91826451e-01,\n",
       "        1.60345182e-01, -4.23284680e-01,  4.99030530e-01, -6.39975667e-01,\n",
       "        2.77599692e-02, -1.23919994e-01, -1.36113971e-01,  5.50831497e-01,\n",
       "       -1.88981980e-01, -5.87557197e-01, -1.68744907e-01,  5.51306784e-01,\n",
       "       -3.54658186e-01,  4.50495213e-01,  2.87305295e-01,  3.43645871e-01,\n",
       "       -4.80261683e-01, -2.02185422e-01,  4.45612788e-01,  8.05342793e-02,\n",
       "       -3.18718195e-01, -2.87405491e-01, -3.78421158e-01,  4.57633510e-02,\n",
       "        1.54512376e-01, -4.06509973e-02, -1.30366266e-01, -2.54718184e-01,\n",
       "        4.14907932e-03, -3.12016100e-01, -3.91340613e-01,  7.42963493e-01,\n",
       "       -2.81019330e-01, -1.76541254e-01, -4.74498868e-01, -3.15058559e-01,\n",
       "        1.81552082e-01, -4.85381126e-01,  1.26785767e+00,  2.55188867e-02,\n",
       "       -1.66705981e-01, -4.43626553e-01,  1.46489680e-01,  1.73631161e-01,\n",
       "       -1.31828755e-01,  3.83890569e-02,  2.78174013e-01, -6.13845348e-01,\n",
       "        1.78056121e-01,  8.01847935e-01,  2.49036491e-01, -3.01737934e-02,\n",
       "        1.67265177e-01, -5.99429011e-02,  2.01588988e-01, -4.01664644e-01,\n",
       "        2.09002614e-01,  5.97724617e-02, -1.70693770e-01, -3.12906623e-01,\n",
       "        4.35203314e-04,  1.40490785e-01,  4.68818784e-01, -3.69145066e-01,\n",
       "        5.96954450e-02, -5.62402189e-01,  1.25700533e-02, -1.81508541e-01,\n",
       "       -3.64449650e-01,  4.31409806e-01, -5.04463911e-01,  8.24791431e-01,\n",
       "       -9.05586258e-02,  1.74931243e-01,  1.22120416e+00, -6.15257025e-02,\n",
       "        2.99329489e-01,  4.97430801e-01,  3.20654333e-01, -1.40621647e-01,\n",
       "        6.88546240e-01,  2.18970865e-01, -5.63171148e-01,  9.05826867e-01,\n",
       "        4.10800129e-01,  1.80460855e-01, -1.29952788e-01, -7.90949613e-02,\n",
       "        2.01475993e-03, -1.60126328e-01, -2.78768569e-01, -2.12674439e-01,\n",
       "       -1.39186025e-01,  3.56270611e-01, -3.45108032e-01, -2.44195074e-01,\n",
       "       -1.52955398e-01,  6.20048121e-02, -2.38332331e-01, -3.40351135e-01,\n",
       "       -1.09973416e-01, -9.03016627e-02, -2.63763219e-01,  2.40762681e-02,\n",
       "       -1.88977554e-01, -1.86789066e-01, -5.79867810e-02,  3.13950807e-01,\n",
       "        2.58456290e-01,  4.32359099e-01, -5.89179993e-01,  2.99587846e-04,\n",
       "       -3.74383181e-01,  6.16991341e-01, -2.24279076e-01, -3.84903759e-01,\n",
       "       -1.47631779e-01, -3.33579183e-01, -3.24589282e-01, -8.88826132e-01,\n",
       "       -3.82810354e-01,  5.06862581e-01,  1.54759541e-01,  4.08622622e-03,\n",
       "       -9.86389697e-01, -1.29408568e-01,  5.84791839e-01,  5.65294921e-02,\n",
       "        1.00564909e+00,  1.94330275e-01, -3.65596831e-01,  5.39221540e-02,\n",
       "       -7.65237331e-01, -6.81394279e-01,  9.62803304e-01,  4.77877170e-01,\n",
       "        1.06071666e-01, -5.29453397e-01,  2.41371810e-01,  2.00604364e-01,\n",
       "        3.77943106e-02, -5.86602867e-01,  2.93570250e-01, -3.69753003e-01],\n",
       "      dtype=float32)"
      ]
     },
     "execution_count": 22,
     "metadata": {
      "tags": []
     },
     "output_type": "execute_result"
    }
   ],
   "source": [
    "token2 = nlp(u'man')\n",
    "token2.vector"
   ]
  },
  {
   "cell_type": "markdown",
   "metadata": {
    "_uuid": "9905bf99e7d480f6800465d645f831ddcc2763ab",
    "colab_type": "text",
    "id": "JnREwE1TrbAW"
   },
   "source": [
    "We can use these notations and find document similarity. For example : "
   ]
  },
  {
   "cell_type": "code",
   "execution_count": 0,
   "metadata": {
    "_uuid": "7589a07b84b60e4491c6309fb43f8c5277d76010",
    "colab": {},
    "colab_type": "code",
    "id": "ehyjzSplrbAY",
    "outputId": "43839635-b4df-4058-a107-5fdf4e24b039"
   },
   "outputs": [
    {
     "data": {
      "text/plain": [
       "0.7366502478429995"
      ]
     },
     "execution_count": 23,
     "metadata": {
      "tags": []
     },
     "output_type": "execute_result"
    }
   ],
   "source": [
    "token.similarity(token2)"
   ]
  },
  {
   "cell_type": "markdown",
   "metadata": {
    "_uuid": "b498c641518b3e9c10d333afc45c0da2ce3f7748",
    "colab_type": "text",
    "id": "QkU0DdKCrbAi"
   },
   "source": [
    "The result states that the similarity score of the two documents is 0.76 / 1. \n",
    "\n",
    "## End Notes \n",
    "\n",
    "This notebook explains the basics of NLP techniques applied using spaCy. These techniques can be used to generate text based features, generate vector notations,  document similarity, improve topic models, imporve machine and deep learning models, and build knowledge graphs. "
   ]
  },
  {
   "cell_type": "code",
   "execution_count": 4,
   "metadata": {
    "colab": {},
    "colab_type": "code",
    "id": "MiJLp4r0rbAk"
   },
   "outputs": [
    {
     "data": {
      "text/plain": [
       "45.0"
      ]
     },
     "execution_count": 4,
     "metadata": {},
     "output_type": "execute_result"
    }
   ],
   "source": [
    "180/4"
   ]
  }
 ],
 "metadata": {
  "colab": {
   "name": "Natural Language Processing Techniques using spaCy.ipynb",
   "provenance": []
  },
  "kernelspec": {
   "display_name": "Python 3",
   "language": "python",
   "name": "python3"
  },
  "language_info": {
   "codemirror_mode": {
    "name": "ipython",
    "version": 3
   },
   "file_extension": ".py",
   "mimetype": "text/x-python",
   "name": "python",
   "nbconvert_exporter": "python",
   "pygments_lexer": "ipython3",
   "version": "3.6.9"
  }
 },
 "nbformat": 4,
 "nbformat_minor": 1
}
