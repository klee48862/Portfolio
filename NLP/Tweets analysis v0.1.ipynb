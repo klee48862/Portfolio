{
 "cells": [
  {
   "cell_type": "markdown",
   "metadata": {},
   "source": [
    "## Objective: \n",
    "Analyse tweets on a subject (economy) to identify -   \n",
    "- the top hashtags associated with a target hashtag ('economy')\n",
    "\n",
    "We'll need to perform a lot of clean up during the process. We will - \n",
    "- Normalize case\n",
    "- Tokenize with specific rules\n",
    "- Contextual stop word removal\n",
    "- Cleanup - removal of URLs, User handles\n",
    "\n",
    "Finally, we'll plot the top 10 hashtags that occurred along with '#economy' on a horizontal bar chart"
   ]
  },
  {
   "cell_type": "code",
   "execution_count": 1,
   "metadata": {},
   "outputs": [],
   "source": [
    "import pandas as pd"
   ]
  },
  {
   "cell_type": "code",
   "execution_count": 2,
   "metadata": {},
   "outputs": [
    {
     "data": {
      "text/html": [
       "<div>\n",
       "<style scoped>\n",
       "    .dataframe tbody tr th:only-of-type {\n",
       "        vertical-align: middle;\n",
       "    }\n",
       "\n",
       "    .dataframe tbody tr th {\n",
       "        vertical-align: top;\n",
       "    }\n",
       "\n",
       "    .dataframe thead th {\n",
       "        text-align: right;\n",
       "    }\n",
       "</style>\n",
       "<table border=\"1\" class=\"dataframe\">\n",
       "  <thead>\n",
       "    <tr style=\"text-align: right;\">\n",
       "      <th></th>\n",
       "      <th>Unnamed: 0</th>\n",
       "      <th>0</th>\n",
       "    </tr>\n",
       "  </thead>\n",
       "  <tbody>\n",
       "    <tr>\n",
       "      <th>0</th>\n",
       "      <td>0</td>\n",
       "      <td>Stocks losses deepen as a key recession warnin...</td>\n",
       "    </tr>\n",
       "    <tr>\n",
       "      <th>1</th>\n",
       "      <td>1</td>\n",
       "      <td>RT @CallMeAhmjusAyn: The #economy.\\r\\n@FoxNews...</td>\n",
       "    </tr>\n",
       "    <tr>\n",
       "      <th>2</th>\n",
       "      <td>2</td>\n",
       "      <td>AP Explains: Is the US economy nearing a reces...</td>\n",
       "    </tr>\n",
       "    <tr>\n",
       "      <th>3</th>\n",
       "      <td>3</td>\n",
       "      <td>A @JobCreatorsUSA / https://t.co/JXEt7hQU4k su...</td>\n",
       "    </tr>\n",
       "    <tr>\n",
       "      <th>4</th>\n",
       "      <td>4</td>\n",
       "      <td>Who will stop mr. Mario Draghi and the ECB wit...</td>\n",
       "    </tr>\n",
       "  </tbody>\n",
       "</table>\n",
       "</div>"
      ],
      "text/plain": [
       "   Unnamed: 0                                                  0\n",
       "0           0  Stocks losses deepen as a key recession warnin...\n",
       "1           1  RT @CallMeAhmjusAyn: The #economy.\\r\\n@FoxNews...\n",
       "2           2  AP Explains: Is the US economy nearing a reces...\n",
       "3           3  A @JobCreatorsUSA / https://t.co/JXEt7hQU4k su...\n",
       "4           4  Who will stop mr. Mario Draghi and the ECB wit..."
      ]
     },
     "execution_count": 2,
     "metadata": {},
     "output_type": "execute_result"
    }
   ],
   "source": [
    "inp_tweets0 = pd.read_csv(\"raw_tweets_economy.txt\", sep=\"\\t\")\n",
    "inp_tweets0.head()"
   ]
  },
  {
   "cell_type": "code",
   "execution_count": 3,
   "metadata": {},
   "outputs": [
    {
     "data": {
      "text/plain": [
       "(500, 2)"
      ]
     },
     "execution_count": 3,
     "metadata": {},
     "output_type": "execute_result"
    }
   ],
   "source": [
    "inp_tweets0.shape"
   ]
  },
  {
   "cell_type": "markdown",
   "metadata": {},
   "source": [
    "#### Drop the column '0', rename column '1' to 'tweet'"
   ]
  },
  {
   "cell_type": "code",
   "execution_count": 4,
   "metadata": {},
   "outputs": [],
   "source": [
    "inp_tweets0.drop('Unnamed: 0', inplace=True, axis=1)"
   ]
  },
  {
   "cell_type": "code",
   "execution_count": 5,
   "metadata": {},
   "outputs": [
    {
     "data": {
      "text/plain": [
       "(500, 1)"
      ]
     },
     "execution_count": 5,
     "metadata": {},
     "output_type": "execute_result"
    }
   ],
   "source": [
    "inp_tweets0.shape"
   ]
  },
  {
   "cell_type": "code",
   "execution_count": 6,
   "metadata": {},
   "outputs": [
    {
     "data": {
      "text/html": [
       "<div>\n",
       "<style scoped>\n",
       "    .dataframe tbody tr th:only-of-type {\n",
       "        vertical-align: middle;\n",
       "    }\n",
       "\n",
       "    .dataframe tbody tr th {\n",
       "        vertical-align: top;\n",
       "    }\n",
       "\n",
       "    .dataframe thead th {\n",
       "        text-align: right;\n",
       "    }\n",
       "</style>\n",
       "<table border=\"1\" class=\"dataframe\">\n",
       "  <thead>\n",
       "    <tr style=\"text-align: right;\">\n",
       "      <th></th>\n",
       "      <th>0</th>\n",
       "    </tr>\n",
       "  </thead>\n",
       "  <tbody>\n",
       "    <tr>\n",
       "      <th>0</th>\n",
       "      <td>Stocks losses deepen as a key recession warnin...</td>\n",
       "    </tr>\n",
       "    <tr>\n",
       "      <th>1</th>\n",
       "      <td>RT @CallMeAhmjusAyn: The #economy.\\r\\n@FoxNews...</td>\n",
       "    </tr>\n",
       "    <tr>\n",
       "      <th>2</th>\n",
       "      <td>AP Explains: Is the US economy nearing a reces...</td>\n",
       "    </tr>\n",
       "    <tr>\n",
       "      <th>3</th>\n",
       "      <td>A @JobCreatorsUSA / https://t.co/JXEt7hQU4k su...</td>\n",
       "    </tr>\n",
       "    <tr>\n",
       "      <th>4</th>\n",
       "      <td>Who will stop mr. Mario Draghi and the ECB wit...</td>\n",
       "    </tr>\n",
       "  </tbody>\n",
       "</table>\n",
       "</div>"
      ],
      "text/plain": [
       "                                                   0\n",
       "0  Stocks losses deepen as a key recession warnin...\n",
       "1  RT @CallMeAhmjusAyn: The #economy.\\r\\n@FoxNews...\n",
       "2  AP Explains: Is the US economy nearing a reces...\n",
       "3  A @JobCreatorsUSA / https://t.co/JXEt7hQU4k su...\n",
       "4  Who will stop mr. Mario Draghi and the ECB wit..."
      ]
     },
     "execution_count": 6,
     "metadata": {},
     "output_type": "execute_result"
    }
   ],
   "source": [
    "inp_tweets0.head()"
   ]
  },
  {
   "cell_type": "markdown",
   "metadata": {},
   "source": [
    "Renaming the column"
   ]
  },
  {
   "cell_type": "code",
   "execution_count": 10,
   "metadata": {},
   "outputs": [
    {
     "data": {
      "text/html": [
       "<div>\n",
       "<style scoped>\n",
       "    .dataframe tbody tr th:only-of-type {\n",
       "        vertical-align: middle;\n",
       "    }\n",
       "\n",
       "    .dataframe tbody tr th {\n",
       "        vertical-align: top;\n",
       "    }\n",
       "\n",
       "    .dataframe thead th {\n",
       "        text-align: right;\n",
       "    }\n",
       "</style>\n",
       "<table border=\"1\" class=\"dataframe\">\n",
       "  <thead>\n",
       "    <tr style=\"text-align: right;\">\n",
       "      <th></th>\n",
       "      <th>tweet</th>\n",
       "    </tr>\n",
       "  </thead>\n",
       "  <tbody>\n",
       "    <tr>\n",
       "      <th>0</th>\n",
       "      <td>Stocks losses deepen as a key recession warnin...</td>\n",
       "    </tr>\n",
       "    <tr>\n",
       "      <th>1</th>\n",
       "      <td>RT @CallMeAhmjusAyn: The #economy.\\r\\n@FoxNews...</td>\n",
       "    </tr>\n",
       "    <tr>\n",
       "      <th>2</th>\n",
       "      <td>AP Explains: Is the US economy nearing a reces...</td>\n",
       "    </tr>\n",
       "    <tr>\n",
       "      <th>3</th>\n",
       "      <td>A @JobCreatorsUSA / https://t.co/JXEt7hQU4k su...</td>\n",
       "    </tr>\n",
       "    <tr>\n",
       "      <th>4</th>\n",
       "      <td>Who will stop mr. Mario Draghi and the ECB wit...</td>\n",
       "    </tr>\n",
       "  </tbody>\n",
       "</table>\n",
       "</div>"
      ],
      "text/plain": [
       "                                               tweet\n",
       "0  Stocks losses deepen as a key recession warnin...\n",
       "1  RT @CallMeAhmjusAyn: The #economy.\\r\\n@FoxNews...\n",
       "2  AP Explains: Is the US economy nearing a reces...\n",
       "3  A @JobCreatorsUSA / https://t.co/JXEt7hQU4k su...\n",
       "4  Who will stop mr. Mario Draghi and the ECB wit..."
      ]
     },
     "execution_count": 10,
     "metadata": {},
     "output_type": "execute_result"
    }
   ],
   "source": [
    "inp_tweets0 = inp_tweets0.rename({'0':'tweet'}, axis=1)\n",
    "inp_tweets0.head() "
   ]
  },
  {
   "cell_type": "code",
   "execution_count": 20,
   "metadata": {},
   "outputs": [
    {
     "data": {
      "text/plain": [
       "array(['🇪🇺📉 Stoxx 600 -0.43%\\r\\n🇩🇪📉 Dax -0.6%\\r\\n🇬🇧📉 FTSE 100 -0.83% \\r\\n #investing #world #economy #global https://t.co/xyCSdakd9Z',\n",
       "       'RT @NorbertElekes: Share of GDP generated by tourism\\r\\n\\r\\nJapan:      1.9%\\r\\nUSA:         2.8%\\r\\nUK, India: 3.7%\\r\\nTurkey:     4.3%\\r\\n\\r\\nItaly:…',\n",
       "       'RT @elerianm: #Bloomberg on the $2 billion stimulus package announced today by the #HongKong government this morning.\\r\\n\\r\\nTargeting both the h…',\n",
       "       'The White House is sensitive to expectations for the economy and the financial markets. https://t.co/dKsX2DKcH8 via… https://t.co/1xCUb9Sjdk',\n",
       "       'RT @F3NewsOfficial: #PM #Modi #Announces #Outlay Of #Rs.103.5 #Lakh #Crores For #Roadmap To #$5 #Trillion\\xa0#Economy https://t.co/o7cmPFYKLv…'],\n",
       "      dtype=object)"
      ]
     },
     "execution_count": 20,
     "metadata": {},
     "output_type": "execute_result"
    }
   ],
   "source": [
    "inp_tweets0['tweet'].sample(n=5).values"
   ]
  },
  {
   "cell_type": "markdown",
   "metadata": {},
   "source": [
    "#### Get the tweets into a list, for easy text clean up and manipulation"
   ]
  },
  {
   "cell_type": "code",
   "execution_count": 21,
   "metadata": {},
   "outputs": [],
   "source": [
    "tweets0 = inp_tweets0['tweet'].values"
   ]
  },
  {
   "cell_type": "code",
   "execution_count": 22,
   "metadata": {},
   "outputs": [
    {
     "data": {
      "text/plain": [
       "500"
      ]
     },
     "execution_count": 22,
     "metadata": {},
     "output_type": "execute_result"
    }
   ],
   "source": [
    "len(tweets0)"
   ]
  },
  {
   "cell_type": "code",
   "execution_count": 23,
   "metadata": {
    "scrolled": true
   },
   "outputs": [
    {
     "data": {
      "text/plain": [
       "array(['Stocks losses deepen as a key recession warning surfaces @GOP #economy #fail #collapse #recession #gop #greed… https://t.co/F8kazAixUk',\n",
       "       \"RT @CallMeAhmjusAyn: The #economy.\\r\\n@FoxNews @realDonaldTrump \\r\\n#Trump is an ejit.\\r\\n#maga #TrumpTrain2020 #sheeple are idiot's.\\r\\n#farming #Trad…\",\n",
       "       'AP Explains: Is the US economy nearing a recession? \\r\\n#Business\\r\\n#Economy\\r\\n#Recession\\r\\n#TradeWar\\r\\n#China\\r\\n#EU… https://t.co/0jtsR2kSxi',\n",
       "       'A @JobCreatorsUSA / https://t.co/JXEt7hQU4k survey completed Tuesday, 56% rated the #economy as good or excellent,… https://t.co/j1XMiptADx',\n",
       "       'Who will stop mr. Mario Draghi and the ECB with this counterproductive course of money dumping / zero interests? It… https://t.co/eweIrVuOK0'],\n",
       "      dtype=object)"
      ]
     },
     "execution_count": 23,
     "metadata": {},
     "output_type": "execute_result"
    }
   ],
   "source": [
    "tweets0[:5]"
   ]
  },
  {
   "cell_type": "markdown",
   "metadata": {},
   "source": [
    "The tweets contain - \n",
    "1. URLs\n",
    "2. Hashtags\n",
    "3. User handles\n",
    "4. 'RT'"
   ]
  },
  {
   "cell_type": "markdown",
   "metadata": {},
   "source": [
    "## Cleanup "
   ]
  },
  {
   "cell_type": "markdown",
   "metadata": {},
   "source": [
    "#### Normalizing case"
   ]
  },
  {
   "cell_type": "code",
   "execution_count": 24,
   "metadata": {},
   "outputs": [],
   "source": [
    "tweets_lower = [twt.lower() for twt in tweets0]"
   ]
  },
  {
   "cell_type": "code",
   "execution_count": 25,
   "metadata": {},
   "outputs": [
    {
     "data": {
      "text/plain": [
       "['stocks losses deepen as a key recession warning surfaces @gop #economy #fail #collapse #recession #gop #greed… https://t.co/f8kazaixuk',\n",
       " \"rt @callmeahmjusayn: the #economy.\\r\\n@foxnews @realdonaldtrump \\r\\n#trump is an ejit.\\r\\n#maga #trumptrain2020 #sheeple are idiot's.\\r\\n#farming #trad…\",\n",
       " 'ap explains: is the us economy nearing a recession? \\r\\n#business\\r\\n#economy\\r\\n#recession\\r\\n#tradewar\\r\\n#china\\r\\n#eu… https://t.co/0jtsr2ksxi',\n",
       " 'a @jobcreatorsusa / https://t.co/jxet7hqu4k survey completed tuesday, 56% rated the #economy as good or excellent,… https://t.co/j1xmiptadx',\n",
       " 'who will stop mr. mario draghi and the ecb with this counterproductive course of money dumping / zero interests? it… https://t.co/eweirvuok0']"
      ]
     },
     "execution_count": 25,
     "metadata": {},
     "output_type": "execute_result"
    }
   ],
   "source": [
    "tweets_lower[:5]"
   ]
  },
  {
   "cell_type": "markdown",
   "metadata": {},
   "source": [
    "#### Remove user handles, begin with '@'"
   ]
  },
  {
   "cell_type": "code",
   "execution_count": 26,
   "metadata": {},
   "outputs": [],
   "source": [
    "import re"
   ]
  },
  {
   "cell_type": "code",
   "execution_count": 27,
   "metadata": {},
   "outputs": [
    {
     "data": {
      "text/plain": [
       "' this course rocks! http://rahimbaig.com/ai'"
      ]
     },
     "execution_count": 27,
     "metadata": {},
     "output_type": "execute_result"
    }
   ],
   "source": [
    "re.sub(\"@\\w+\",\"\", \"@Rahim this course rocks! http://rahimbaig.com/ai\")"
   ]
  },
  {
   "cell_type": "code",
   "execution_count": 30,
   "metadata": {},
   "outputs": [],
   "source": [
    "tweets_nouser = [re.sub(\"@\\w+\",\"\", twt) for twt in tweets_lower]"
   ]
  },
  {
   "cell_type": "code",
   "execution_count": 31,
   "metadata": {},
   "outputs": [
    {
     "data": {
      "text/plain": [
       "['stocks losses deepen as a key recession warning surfaces  #economy #fail #collapse #recession #gop #greed… https://t.co/f8kazaixuk',\n",
       " \"rt : the #economy.\\r\\n  \\r\\n#trump is an ejit.\\r\\n#maga #trumptrain2020 #sheeple are idiot's.\\r\\n#farming #trad…\",\n",
       " 'ap explains: is the us economy nearing a recession? \\r\\n#business\\r\\n#economy\\r\\n#recession\\r\\n#tradewar\\r\\n#china\\r\\n#eu… https://t.co/0jtsr2ksxi',\n",
       " 'a  / https://t.co/jxet7hqu4k survey completed tuesday, 56% rated the #economy as good or excellent,… https://t.co/j1xmiptadx',\n",
       " 'who will stop mr. mario draghi and the ecb with this counterproductive course of money dumping / zero interests? it… https://t.co/eweirvuok0']"
      ]
     },
     "execution_count": 31,
     "metadata": {},
     "output_type": "execute_result"
    }
   ],
   "source": [
    "tweets_nouser[:5]"
   ]
  },
  {
   "cell_type": "markdown",
   "metadata": {},
   "source": [
    "#### Remove URLs"
   ]
  },
  {
   "cell_type": "code",
   "execution_count": 33,
   "metadata": {},
   "outputs": [
    {
     "data": {
      "text/plain": [
       "'@Rahim this course rocks! '"
      ]
     },
     "execution_count": 33,
     "metadata": {},
     "output_type": "execute_result"
    }
   ],
   "source": [
    "re.sub(\"\\w+://\\S+\",\"\", \"@Rahim this course rocks! http://rahimbaig.com/ai\")"
   ]
  },
  {
   "cell_type": "code",
   "execution_count": 34,
   "metadata": {},
   "outputs": [],
   "source": [
    "tweets_nourl = [re.sub(\"\\w+://\\S+\",\"\", twt) for twt in tweets_nouser]"
   ]
  },
  {
   "cell_type": "code",
   "execution_count": 35,
   "metadata": {},
   "outputs": [
    {
     "data": {
      "text/plain": [
       "['stocks losses deepen as a key recession warning surfaces  #economy #fail #collapse #recession #gop #greed… ',\n",
       " \"rt : the #economy.\\r\\n  \\r\\n#trump is an ejit.\\r\\n#maga #trumptrain2020 #sheeple are idiot's.\\r\\n#farming #trad…\",\n",
       " 'ap explains: is the us economy nearing a recession? \\r\\n#business\\r\\n#economy\\r\\n#recession\\r\\n#tradewar\\r\\n#china\\r\\n#eu… ',\n",
       " 'a  /  survey completed tuesday, 56% rated the #economy as good or excellent,… ',\n",
       " 'who will stop mr. mario draghi and the ecb with this counterproductive course of money dumping / zero interests? it… ']"
      ]
     },
     "execution_count": 35,
     "metadata": {},
     "output_type": "execute_result"
    }
   ],
   "source": [
    "tweets_nourl[:5]"
   ]
  },
  {
   "cell_type": "code",
   "execution_count": 20,
   "metadata": {},
   "outputs": [
    {
     "data": {
      "text/plain": [
       "['rt : . has transformed (and expanded) the republican party, making it the party of blue collar working america…',\n",
       " 'rt : #lebanon #beirut #politics #economy #commerce #funny #daily #media #crazy #science #food\\r\\n',\n",
       " 'rt : . has transformed (and expanded) the republican party, making it the party of blue collar working america…',\n",
       " \"rt : rt.'s #facts #thread\\r\\n1). blames u.s. sanctions for #iran’s crumbling #economy. #blacklistirgc #corrupti…\",\n",
       " '#primeminister  commits to pumping 1.4$tr into the #economy of #india via #infrastructure projects .… ']"
      ]
     },
     "execution_count": 20,
     "metadata": {},
     "output_type": "execute_result"
    }
   ],
   "source": [
    "tweets_nourl[-5:]"
   ]
  },
  {
   "cell_type": "markdown",
   "metadata": {},
   "source": [
    "#### Extracting only the hashtags from the tweets - remember, we want to analyse the most common hashtags in the tweets"
   ]
  },
  {
   "cell_type": "code",
   "execution_count": 36,
   "metadata": {},
   "outputs": [
    {
     "data": {
      "text/plain": [
       "['#love', '#life']"
      ]
     },
     "execution_count": 36,
     "metadata": {},
     "output_type": "execute_result"
    }
   ],
   "source": [
    "re.findall(\"#\\w+\",\"I love this #love #life and fun\")"
   ]
  },
  {
   "cell_type": "code",
   "execution_count": 37,
   "metadata": {},
   "outputs": [
    {
     "data": {
      "text/plain": [
       "['#food', '#love']"
      ]
     },
     "execution_count": 37,
     "metadata": {},
     "output_type": "execute_result"
    }
   ],
   "source": [
    "re.findall(\"#\\w+\",\"@Rahim #food is #love\")"
   ]
  },
  {
   "cell_type": "code",
   "execution_count": 38,
   "metadata": {},
   "outputs": [],
   "source": [
    "hashtags0 = [re.findall('#\\w+',twt) for twt in tweets_nourl]"
   ]
  },
  {
   "cell_type": "code",
   "execution_count": 40,
   "metadata": {},
   "outputs": [
    {
     "data": {
      "text/plain": [
       "[['#economy', '#fail', '#collapse', '#recession', '#gop', '#greed'],\n",
       " ['#economy',\n",
       "  '#trump',\n",
       "  '#maga',\n",
       "  '#trumptrain2020',\n",
       "  '#sheeple',\n",
       "  '#farming',\n",
       "  '#trad'],\n",
       " ['#business', '#economy', '#recession', '#tradewar', '#china', '#eu'],\n",
       " ['#economy'],\n",
       " []]"
      ]
     },
     "execution_count": 40,
     "metadata": {},
     "output_type": "execute_result"
    }
   ],
   "source": [
    "hashtags0[:5]"
   ]
  },
  {
   "cell_type": "markdown",
   "metadata": {},
   "source": [
    "### Finding out the most common hashtags and plotting them"
   ]
  },
  {
   "cell_type": "markdown",
   "metadata": {},
   "source": [
    "#### First, combining all the individuals lists into a single list, which can easily be passed to a counter"
   ]
  },
  {
   "cell_type": "code",
   "execution_count": 49,
   "metadata": {},
   "outputs": [],
   "source": [
    "#Declaring an empty list which will later contain all the hashtags\n",
    "all_hashtags = []"
   ]
  },
  {
   "cell_type": "code",
   "execution_count": 50,
   "metadata": {},
   "outputs": [
    {
     "name": "stdout",
     "output_type": "stream",
     "text": [
      "0 6\n",
      "1 13\n",
      "2 19\n",
      "3 20\n",
      "4 20\n",
      "5 23\n",
      "6 32\n",
      "7 32\n",
      "8 34\n",
      "9 40\n",
      "10 41\n",
      "11 41\n",
      "12 41\n",
      "13 41\n",
      "14 41\n",
      "15 47\n",
      "16 48\n",
      "17 48\n",
      "18 50\n",
      "19 52\n",
      "20 54\n",
      "21 56\n",
      "22 57\n",
      "23 59\n",
      "24 60\n",
      "25 60\n",
      "26 61\n",
      "27 62\n",
      "28 63\n",
      "29 65\n",
      "30 65\n",
      "31 66\n",
      "32 67\n",
      "33 72\n",
      "34 74\n",
      "35 74\n",
      "36 76\n",
      "37 80\n",
      "38 80\n",
      "39 80\n",
      "40 80\n",
      "41 82\n",
      "42 84\n",
      "43 86\n",
      "44 89\n",
      "45 92\n",
      "46 92\n",
      "47 100\n",
      "48 105\n",
      "49 113\n",
      "50 116\n",
      "51 116\n",
      "52 116\n",
      "53 124\n",
      "54 130\n",
      "55 135\n",
      "56 140\n",
      "57 146\n",
      "58 157\n",
      "59 157\n",
      "60 158\n",
      "61 160\n",
      "62 164\n",
      "63 166\n",
      "64 171\n",
      "65 171\n",
      "66 176\n",
      "67 176\n",
      "68 185\n",
      "69 190\n",
      "70 190\n",
      "71 190\n",
      "72 191\n",
      "73 195\n",
      "74 198\n",
      "75 201\n",
      "76 201\n",
      "77 203\n",
      "78 203\n",
      "79 203\n",
      "80 203\n",
      "81 207\n",
      "82 207\n",
      "83 207\n",
      "84 207\n",
      "85 212\n",
      "86 212\n",
      "87 213\n",
      "88 213\n",
      "89 213\n",
      "90 216\n",
      "91 222\n",
      "92 222\n",
      "93 227\n",
      "94 232\n",
      "95 232\n",
      "96 234\n",
      "97 234\n",
      "98 234\n",
      "99 236\n",
      "100 239\n",
      "101 239\n",
      "102 241\n",
      "103 244\n",
      "104 244\n",
      "105 247\n",
      "106 249\n",
      "107 251\n",
      "108 251\n",
      "109 254\n",
      "110 254\n",
      "111 261\n",
      "112 261\n",
      "113 261\n",
      "114 263\n",
      "115 265\n",
      "116 265\n",
      "117 266\n",
      "118 266\n",
      "119 269\n",
      "120 272\n",
      "121 273\n",
      "122 283\n",
      "123 284\n",
      "124 286\n",
      "125 287\n",
      "126 287\n",
      "127 287\n",
      "128 287\n",
      "129 287\n",
      "130 287\n",
      "131 287\n",
      "132 295\n",
      "133 295\n",
      "134 305\n",
      "135 305\n",
      "136 306\n",
      "137 307\n",
      "138 307\n",
      "139 309\n",
      "140 309\n",
      "141 309\n",
      "142 309\n",
      "143 314\n",
      "144 314\n",
      "145 314\n",
      "146 322\n",
      "147 322\n",
      "148 322\n",
      "149 322\n",
      "150 327\n",
      "151 327\n",
      "152 327\n",
      "153 327\n",
      "154 329\n",
      "155 329\n",
      "156 331\n",
      "157 333\n",
      "158 335\n",
      "159 337\n",
      "160 337\n",
      "161 337\n",
      "162 340\n",
      "163 343\n",
      "164 346\n",
      "165 349\n",
      "166 357\n",
      "167 357\n",
      "168 358\n",
      "169 358\n",
      "170 358\n",
      "171 358\n",
      "172 361\n",
      "173 363\n",
      "174 363\n",
      "175 365\n",
      "176 366\n",
      "177 368\n",
      "178 369\n",
      "179 371\n",
      "180 372\n",
      "181 374\n",
      "182 375\n",
      "183 375\n",
      "184 379\n",
      "185 379\n",
      "186 381\n",
      "187 383\n",
      "188 384\n",
      "189 387\n",
      "190 387\n",
      "191 389\n",
      "192 392\n",
      "193 394\n",
      "194 394\n",
      "195 395\n",
      "196 395\n",
      "197 397\n",
      "198 400\n",
      "199 402\n",
      "200 404\n",
      "201 407\n",
      "202 409\n",
      "203 411\n",
      "204 413\n",
      "205 417\n",
      "206 418\n",
      "207 422\n",
      "208 423\n",
      "209 427\n",
      "210 430\n",
      "211 433\n",
      "212 436\n",
      "213 438\n",
      "214 443\n",
      "215 445\n",
      "216 449\n",
      "217 453\n",
      "218 453\n",
      "219 453\n",
      "220 453\n",
      "221 453\n",
      "222 454\n",
      "223 457\n",
      "224 459\n",
      "225 461\n",
      "226 463\n",
      "227 463\n",
      "228 465\n",
      "229 468\n",
      "230 468\n",
      "231 468\n",
      "232 470\n",
      "233 470\n",
      "234 470\n",
      "235 473\n",
      "236 475\n",
      "237 475\n",
      "238 477\n",
      "239 477\n",
      "240 477\n",
      "241 487\n",
      "242 488\n",
      "243 489\n",
      "244 492\n",
      "245 497\n",
      "246 503\n",
      "247 505\n",
      "248 505\n",
      "249 506\n",
      "250 507\n",
      "251 511\n",
      "252 512\n",
      "253 515\n",
      "254 517\n",
      "255 521\n",
      "256 521\n",
      "257 521\n",
      "258 521\n",
      "259 523\n",
      "260 526\n",
      "261 526\n",
      "262 526\n",
      "263 527\n",
      "264 532\n",
      "265 534\n",
      "266 534\n",
      "267 535\n",
      "268 537\n",
      "269 540\n",
      "270 540\n",
      "271 542\n",
      "272 542\n",
      "273 543\n",
      "274 547\n",
      "275 548\n",
      "276 550\n",
      "277 552\n",
      "278 552\n",
      "279 552\n",
      "280 556\n",
      "281 556\n",
      "282 558\n",
      "283 560\n",
      "284 566\n",
      "285 568\n",
      "286 568\n",
      "287 571\n",
      "288 572\n",
      "289 573\n",
      "290 573\n",
      "291 574\n",
      "292 577\n",
      "293 580\n",
      "294 580\n",
      "295 581\n",
      "296 583\n",
      "297 585\n",
      "298 585\n",
      "299 587\n",
      "300 588\n",
      "301 590\n",
      "302 595\n",
      "303 595\n",
      "304 597\n",
      "305 598\n",
      "306 598\n",
      "307 601\n",
      "308 603\n",
      "309 604\n",
      "310 606\n",
      "311 606\n",
      "312 611\n",
      "313 614\n",
      "314 616\n",
      "315 618\n",
      "316 629\n",
      "317 631\n",
      "318 633\n",
      "319 641\n",
      "320 643\n",
      "321 643\n",
      "322 645\n",
      "323 647\n",
      "324 652\n",
      "325 652\n",
      "326 656\n",
      "327 658\n",
      "328 660\n",
      "329 664\n",
      "330 670\n",
      "331 670\n",
      "332 676\n",
      "333 683\n",
      "334 684\n",
      "335 686\n",
      "336 686\n",
      "337 691\n",
      "338 692\n",
      "339 692\n",
      "340 694\n",
      "341 695\n",
      "342 697\n",
      "343 699\n",
      "344 699\n",
      "345 701\n",
      "346 705\n",
      "347 710\n",
      "348 712\n",
      "349 714\n",
      "350 718\n",
      "351 718\n",
      "352 719\n",
      "353 721\n",
      "354 721\n",
      "355 722\n",
      "356 724\n",
      "357 724\n",
      "358 724\n",
      "359 726\n",
      "360 728\n",
      "361 730\n",
      "362 732\n",
      "363 734\n",
      "364 737\n",
      "365 737\n",
      "366 742\n",
      "367 743\n",
      "368 748\n",
      "369 750\n",
      "370 754\n",
      "371 756\n",
      "372 757\n",
      "373 768\n",
      "374 771\n",
      "375 774\n",
      "376 774\n",
      "377 776\n",
      "378 782\n",
      "379 789\n",
      "380 793\n",
      "381 793\n",
      "382 794\n",
      "383 794\n",
      "384 798\n",
      "385 801\n",
      "386 805\n",
      "387 805\n",
      "388 809\n",
      "389 809\n",
      "390 813\n",
      "391 814\n",
      "392 816\n",
      "393 818\n",
      "394 818\n",
      "395 821\n",
      "396 821\n",
      "397 823\n",
      "398 823\n",
      "399 824\n",
      "400 824\n",
      "401 824\n",
      "402 824\n",
      "403 828\n",
      "404 828\n",
      "405 828\n",
      "406 829\n",
      "407 830\n",
      "408 830\n",
      "409 830\n",
      "410 832\n",
      "411 837\n",
      "412 838\n",
      "413 840\n",
      "414 842\n",
      "415 852\n",
      "416 854\n",
      "417 854\n",
      "418 858\n",
      "419 861\n",
      "420 863\n",
      "421 863\n",
      "422 868\n",
      "423 869\n",
      "424 869\n",
      "425 874\n",
      "426 875\n",
      "427 878\n",
      "428 878\n",
      "429 880\n",
      "430 881\n",
      "431 884\n",
      "432 887\n",
      "433 890\n",
      "434 890\n",
      "435 890\n",
      "436 890\n",
      "437 892\n",
      "438 892\n",
      "439 893\n",
      "440 900\n",
      "441 902\n",
      "442 902\n",
      "443 908\n",
      "444 910\n",
      "445 911\n",
      "446 912\n",
      "447 918\n",
      "448 923\n",
      "449 928\n",
      "450 932\n",
      "451 933\n",
      "452 938\n",
      "453 940\n",
      "454 944\n",
      "455 944\n",
      "456 948\n",
      "457 948\n",
      "458 950\n",
      "459 952\n",
      "460 954\n",
      "461 958\n",
      "462 963\n",
      "463 963\n",
      "464 963\n",
      "465 966\n",
      "466 969\n",
      "467 971\n",
      "468 976\n",
      "469 976\n",
      "470 978\n",
      "471 978\n",
      "472 978\n",
      "473 980\n",
      "474 984\n",
      "475 988\n",
      "476 992\n",
      "477 996\n",
      "478 1000\n",
      "479 1002\n",
      "480 1004\n",
      "481 1006\n",
      "482 1006\n",
      "483 1007\n",
      "484 1008\n",
      "485 1009\n",
      "486 1013\n",
      "487 1021\n",
      "488 1021\n",
      "489 1026\n",
      "490 1030\n",
      "491 1032\n",
      "492 1036\n",
      "493 1036\n",
      "494 1040\n",
      "495 1040\n",
      "496 1051\n",
      "497 1051\n",
      "498 1057\n",
      "499 1061\n"
     ]
    }
   ],
   "source": [
    "for k, twt in enumerate(hashtags0):\n",
    "    all_hashtags.extend(twt)\n",
    "    print(k, len(all_hashtags))"
   ]
  },
  {
   "cell_type": "code",
   "execution_count": 51,
   "metadata": {},
   "outputs": [
    {
     "data": {
      "text/plain": [
       "['#economy', '#fail', '#collapse', '#recession', '#gop']"
      ]
     },
     "execution_count": 51,
     "metadata": {},
     "output_type": "execute_result"
    }
   ],
   "source": [
    "all_hashtags[:5]"
   ]
  },
  {
   "cell_type": "code",
   "execution_count": 52,
   "metadata": {},
   "outputs": [
    {
     "data": {
      "text/plain": [
       "1061"
      ]
     },
     "execution_count": 52,
     "metadata": {},
     "output_type": "execute_result"
    }
   ],
   "source": [
    "len(all_hashtags)"
   ]
  },
  {
   "cell_type": "code",
   "execution_count": 62,
   "metadata": {},
   "outputs": [
    {
     "data": {
      "text/plain": [
       "387"
      ]
     },
     "execution_count": 62,
     "metadata": {},
     "output_type": "execute_result"
    }
   ],
   "source": [
    "# I want to find the no. of unique hashtags, other than #economy\n",
    "hlist = list(set(all_hashtags))\n",
    "hlist.remove('#economy')\n",
    "len(hlist)"
   ]
  },
  {
   "cell_type": "code",
   "execution_count": null,
   "metadata": {},
   "outputs": [],
   "source": []
  },
  {
   "cell_type": "markdown",
   "metadata": {},
   "source": [
    "#### Removing '#economy' from the data, as this is what the tweets are about"
   ]
  },
  {
   "cell_type": "code",
   "execution_count": 63,
   "metadata": {},
   "outputs": [],
   "source": [
    "stop_contextual = ['#economy']"
   ]
  },
  {
   "cell_type": "markdown",
   "metadata": {},
   "source": [
    "#### Removing the contextual stopwords"
   ]
  },
  {
   "cell_type": "code",
   "execution_count": 64,
   "metadata": {},
   "outputs": [],
   "source": [
    "all_hashtags = [tag for tag in all_hashtags if tag not in stop_contextual]"
   ]
  },
  {
   "cell_type": "code",
   "execution_count": 65,
   "metadata": {},
   "outputs": [
    {
     "data": {
      "text/plain": [
       "815"
      ]
     },
     "execution_count": 65,
     "metadata": {},
     "output_type": "execute_result"
    }
   ],
   "source": [
    "len(all_hashtags)"
   ]
  },
  {
   "cell_type": "code",
   "execution_count": 66,
   "metadata": {},
   "outputs": [
    {
     "data": {
      "text/plain": [
       "['#fail', '#collapse', '#recession', '#gop', '#greed']"
      ]
     },
     "execution_count": 66,
     "metadata": {},
     "output_type": "execute_result"
    }
   ],
   "source": [
    "all_hashtags[:5]"
   ]
  },
  {
   "cell_type": "markdown",
   "metadata": {},
   "source": [
    "#### Using a counter to get the top hashtags"
   ]
  },
  {
   "cell_type": "code",
   "execution_count": 70,
   "metadata": {},
   "outputs": [],
   "source": [
    "from collections import Counter"
   ]
  },
  {
   "cell_type": "code",
   "execution_count": 71,
   "metadata": {},
   "outputs": [],
   "source": [
    "counts_hashtags = Counter(all_hashtags)"
   ]
  },
  {
   "cell_type": "code",
   "execution_count": 72,
   "metadata": {
    "scrolled": true
   },
   "outputs": [
    {
     "data": {
      "text/plain": [
       "[('#recession', 24),\n",
       " ('#india', 20),\n",
       " ('#business', 18),\n",
       " ('#hongkong', 17),\n",
       " ('#bloomberg', 15),\n",
       " ('#china', 12),\n",
       " ('#trump', 10),\n",
       " ('#markets', 9),\n",
       " ('#economics', 9),\n",
       " ('#infrastructure', 9)]"
      ]
     },
     "execution_count": 72,
     "metadata": {},
     "output_type": "execute_result"
    }
   ],
   "source": [
    "counts_hashtags.most_common(10)"
   ]
  },
  {
   "cell_type": "code",
   "execution_count": 73,
   "metadata": {},
   "outputs": [
    {
     "data": {
      "text/plain": [
       "collections.Counter"
      ]
     },
     "execution_count": 73,
     "metadata": {},
     "output_type": "execute_result"
    }
   ],
   "source": [
    "type(counts_hashtags)"
   ]
  },
  {
   "cell_type": "code",
   "execution_count": 90,
   "metadata": {},
   "outputs": [
    {
     "data": {
      "text/plain": [
       "[('#currencytrading', 1),\n",
       " ('#beltandroad', 1),\n",
       " ('#671', 1),\n",
       " ('#50', 1),\n",
       " ('#131', 1),\n",
       " ('#2018', 1),\n",
       " ('#financialcrisis', 1),\n",
       " ('#wallstreet', 1),\n",
       " ('#dow', 1),\n",
       " ('#corrupti', 1)]"
      ]
     },
     "execution_count": 90,
     "metadata": {},
     "output_type": "execute_result"
    }
   ],
   "source": [
    "list(counts_hashtags.most_common())[-10:]"
   ]
  },
  {
   "cell_type": "code",
   "execution_count": 92,
   "metadata": {},
   "outputs": [
    {
     "data": {
      "text/plain": [
       "{('#131', 1),\n",
       " ('#2018', 1),\n",
       " ('#50', 1),\n",
       " ('#671', 1),\n",
       " ('#beltandroad', 1),\n",
       " ('#corrupti', 1),\n",
       " ('#currencytrading', 1),\n",
       " ('#dow', 1),\n",
       " ('#financialcrisis', 1),\n",
       " ('#wallstreet', 1)}"
      ]
     },
     "execution_count": 92,
     "metadata": {},
     "output_type": "execute_result"
    }
   ],
   "source": [
    "set(counts_hashtags.most_common()).difference(set(counts_hashtags.most_common(377)))"
   ]
  },
  {
   "cell_type": "markdown",
   "metadata": {},
   "source": [
    "#### Plotting the top 10 hashtags"
   ]
  },
  {
   "cell_type": "code",
   "execution_count": 93,
   "metadata": {},
   "outputs": [],
   "source": [
    "import matplotlib.pyplot as plt"
   ]
  },
  {
   "cell_type": "code",
   "execution_count": 94,
   "metadata": {},
   "outputs": [],
   "source": [
    "res = counts_hashtags.most_common(10)"
   ]
  },
  {
   "cell_type": "code",
   "execution_count": 95,
   "metadata": {},
   "outputs": [],
   "source": [
    "res2 = {term:cnt for term, cnt in res}"
   ]
  },
  {
   "cell_type": "code",
   "execution_count": 96,
   "metadata": {},
   "outputs": [
    {
     "data": {
      "text/plain": [
       "['#recession',\n",
       " '#india',\n",
       " '#business',\n",
       " '#hongkong',\n",
       " '#bloomberg',\n",
       " '#china',\n",
       " '#trump',\n",
       " '#markets',\n",
       " '#economics',\n",
       " '#infrastructure']"
      ]
     },
     "execution_count": 96,
     "metadata": {},
     "output_type": "execute_result"
    }
   ],
   "source": [
    "list(res2.keys())"
   ]
  },
  {
   "cell_type": "code",
   "execution_count": 97,
   "metadata": {},
   "outputs": [
    {
     "data": {
      "text/plain": [
       "[24, 20, 18, 17, 15, 12, 10, 9, 9, 9]"
      ]
     },
     "execution_count": 97,
     "metadata": {},
     "output_type": "execute_result"
    }
   ],
   "source": [
    "list(res2.values())"
   ]
  },
  {
   "cell_type": "code",
   "execution_count": 99,
   "metadata": {},
   "outputs": [
    {
     "data": {
      "image/png": "[encoded data removed]",
      "text/plain": [
       "<Figure size 432x288 with 1 Axes>"
      ]
     },
     "metadata": {
      "needs_background": "light"
     },
     "output_type": "display_data"
    }
   ],
   "source": [
    "plt.barh(list(res2.keys()), list(res2.values()), color=\"dodgerblue\")\n",
    "plt.show()"
   ]
  },
  {
   "cell_type": "code",
   "execution_count": 101,
   "metadata": {},
   "outputs": [
    {
     "data": {
      "image/png": "[encoded data removed]",
      "text/plain": [
       "<Figure size 432x288 with 1 Axes>"
      ]
     },
     "metadata": {
      "needs_background": "light"
     },
     "output_type": "display_data"
    }
   ],
   "source": [
    "plt.bar(list(res2.keys()), list(res2.values()), color=\"teal\")\n",
    "plt.show()"
   ]
  }
 ],
 "metadata": {
  "kernelspec": {
   "display_name": "Python 3",
   "language": "python",
   "name": "python3"
  },
  "language_info": {
   "codemirror_mode": {
    "name": "ipython",
    "version": 3
   },
   "file_extension": ".py",
   "mimetype": "text/x-python",
   "name": "python",
   "nbconvert_exporter": "python",
   "pygments_lexer": "ipython3",
   "version": "3.6.5"
  }
 },
 "nbformat": 4,
 "nbformat_minor": 2
}
